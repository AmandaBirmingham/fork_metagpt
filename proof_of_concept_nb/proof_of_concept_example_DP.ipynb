{
 "cells": [
  {
   "cell_type": "markdown",
   "id": "8bf2ceed-c428-495f-89e5-af098068436f",
   "metadata": {},
   "source": [
    "# AI-driven Interactive Metadata \n",
    "\n",
    "*Amanda Birmingham, Dept. of Pediatrics, UC San Diego*\n",
    "\n",
    "A natural-language approach to metadata investigation and cleaning using the `ChatGPT 4` LLM, the `Langchain` AI framework, AI-based speech recognition, and interactive `itables` visualization."
   ]
  },
  {
   "cell_type": "markdown",
   "id": "867665e1-ae64-4022-9b46-b770257625a5",
   "metadata": {},
   "source": [
    "## Initial set-up\n",
    "\n",
    "To be performed outside notebook:"
   ]
  },
  {
   "cell_type": "raw",
   "id": "1ab57d74-89f5-435c-85bb-604bde04c370",
   "metadata": {},
   "source": [
    "brew install portaudio"
   ]
  },
  {
   "cell_type": "raw",
   "id": "c71a3839-f742-453d-a840-ad5acb4f826a",
   "metadata": {},
   "source": [
    "conda create -n metagpt_langchain python=3.10 pandas numpy \n",
    "conda activate metagpt_langchain "
   ]
  },
  {
   "cell_type": "raw",
   "id": "650cd2d5-3b55-4362-80b1-07888119252a",
   "metadata": {},
   "source": [
    "pip install pyaudio \n",
    "pip install speechrecognition"
   ]
  },
  {
   "cell_type": "raw",
   "id": "9b6bc199-7eb5-4246-b1ce-8d3b7ad80393",
   "metadata": {},
   "source": [
    "pip install ipylab"
   ]
  },
  {
   "cell_type": "raw",
   "id": "e47f9cfd-e77d-4d92-87de-baec00ccac48",
   "metadata": {},
   "source": [
    "pip install openai\n",
    "pip install langchain\n",
    "pip install langchain-community\n",
    "pip install --upgrade --quiet langchain langgraph"
   ]
  },
  {
   "cell_type": "raw",
   "id": "8877dee9-051d-4289-ad2e-b1bf4ed31c90",
   "metadata": {},
   "source": [
    "# if using OpenAI/ChatGPT\n",
    "pip install --upgrade --quiet langchain-openai\n",
    "export OPENAI_API_KEY=<YOUR_OPENAI_API_KEY>\n",
    "source ~/.bashrc"
   ]
  },
  {
   "cell_type": "raw",
   "id": "4e290c3b-fda4-4904-890c-b29bc6a48f55",
   "metadata": {},
   "source": [
    "# if using Google Gemini\n",
    "pip install -qU langchain-google-genai\n",
    "export GOOGLE_API_KEY=<YOUR_GOOGLE_API_KEY>\n",
    "source ~/.bashrc"
   ]
  },
  {
   "cell_type": "raw",
   "id": "a1e4bfb9-fcbc-4030-bd50-778208bc9a38",
   "metadata": {},
   "source": [
    "conda install click flake8 nose pep8 pyyaml \n",
    "pip install cerberus \n",
    "\n",
    "# TODO: replace with git install\n",
    "pip install -e /Users/abirmingham/Work/Repositories/qiimp2"
   ]
  },
  {
   "cell_type": "raw",
   "id": "99a7159f-be1d-49f3-8515-d18e9d6f677b",
   "metadata": {},
   "source": [
    "jupyter lab"
   ]
  },
  {
   "cell_type": "markdown",
   "id": "814a1de0-3929-42bd-82f3-9765f92e9d47",
   "metadata": {},
   "source": [
    "## Adjustable LLM settings"
   ]
  },
  {
   "cell_type": "code",
   "execution_count": 1,
   "id": "82435c77",
   "metadata": {},
   "outputs": [],
   "source": [
    "import os"
   ]
  },
  {
   "cell_type": "code",
   "execution_count": 2,
   "id": "c5b03f4a-06fe-47b1-bffa-b5296d58a892",
   "metadata": {},
   "outputs": [],
   "source": [
    "# Replace with your API keys\n",
    "g_GEMINI = \"<YOUR_GOOGLE_API_KEY>\"\n",
    "g_CHATGPT = os.environ['OPENAI_API_KEY']\n",
    "\n",
    "g_chosen_llm = g_CHATGPT\n",
    "g_MODEL = 'gpt-3.5-turbo'"
   ]
  },
  {
   "cell_type": "code",
   "execution_count": 3,
   "id": "4821e763-8c0a-445f-83df-6d6cd5188e53",
   "metadata": {},
   "outputs": [],
   "source": [
    "# Do we want to enable voice recognition and speech? \n",
    "# This will activate the ability to use voice functions.\n",
    "# This will display an additional button which will allow you to record.\n",
    "g_use_speech = True"
   ]
  },
  {
   "cell_type": "code",
   "execution_count": 4,
   "id": "56954c9f-20ac-4174-9a24-d6a202f15238",
   "metadata": {},
   "outputs": [],
   "source": [
    "# WARNING: Increasing this number will increase the amount of information included in each \n",
    "# LLM query and thus increase the cost of the queries!\n",
    "# Decreasing this number will make the LLM forget past exchanges more quickly\n",
    "g_num_msgs_in_history = 4"
   ]
  },
  {
   "cell_type": "code",
   "execution_count": 5,
   "id": "e9393f1f-21b0-479d-b8c3-d7b32fbc0098",
   "metadata": {},
   "outputs": [],
   "source": [
    "g_base_prompt = f\"using pandas 3 and python 3.10+ to clean data in jupyter lab.\"\n",
    "g_ds_prompt = f\"You are a data scientist {g_base_prompt}\"\n",
    "g_pf_prompt = f\"You are a professor of data science teaching a class on {g_base_prompt}.\" "
   ]
  },
  {
   "cell_type": "markdown",
   "id": "b19e9df2-6426-477d-acab-44cb507d7437",
   "metadata": {},
   "source": [
    "## Imports"
   ]
  },
  {
   "cell_type": "code",
   "execution_count": 6,
   "id": "be9a4660-e907-4c3d-a316-7f4955f668c8",
   "metadata": {},
   "outputs": [],
   "source": [
    "import os\n",
    "import pandas as pd\n",
    "import numpy as np\n",
    "import re"
   ]
  },
  {
   "cell_type": "code",
   "execution_count": 7,
   "id": "0afd405e-8388-489b-9964-ede6a17a0758",
   "metadata": {},
   "outputs": [],
   "source": [
    "import ipywidgets as widgets\n",
    "from IPython import get_ipython\n",
    "from IPython.display import display\n",
    "from traitlets import observe, link, Unicode, Bool, Any\n",
    "from itables import init_notebook_mode, show\n",
    "from ipylab import JupyterFrontEnd\n",
    "import time"
   ]
  },
  {
   "cell_type": "code",
   "execution_count": 8,
   "id": "7c04154e-df07-4647-aa67-3b6eae1f6f92",
   "metadata": {},
   "outputs": [],
   "source": [
    "import speech_recognition as speech_recog"
   ]
  },
  {
   "cell_type": "code",
   "execution_count": 9,
   "id": "ed9df0b1-a3df-4b73-b738-f6d2f0e2664e",
   "metadata": {},
   "outputs": [],
   "source": [
    "from langchain_core.messages import trim_messages\n",
    "from langgraph.checkpoint.memory import MemorySaver\n",
    "from langgraph.graph import START, MessagesState, StateGraph\n",
    "from langchain_core.messages import AIMessage, HumanMessage, SystemMessage\n",
    "\n",
    "from openai import OpenAI\n"
   ]
  },
  {
   "cell_type": "code",
   "execution_count": 10,
   "id": "ec1bcc65-1a37-4654-b481-6a5634b5ec63",
   "metadata": {},
   "outputs": [],
   "source": [
    "import warnings\n",
    "# warnings.filterwarnings('ignore')"
   ]
  },
  {
   "cell_type": "code",
   "execution_count": 11,
   "id": "73f90cad-01a0-4ade-9477-fb9c5537bda6",
   "metadata": {},
   "outputs": [],
   "source": [
    "import logging\n",
    "for handler in logging.root.handlers[:]:\n",
    "    logging.root.removeHandler(handler)\n",
    "logging.basicConfig(level=logging.WARNING, format='%(levelname)s: %(message)s')"
   ]
  },
  {
   "cell_type": "code",
   "execution_count": 111,
   "id": "fdf1638c-e35a-4d99-9fe4-6a0c93cd846b",
   "metadata": {},
   "outputs": [],
   "source": [
    "import seaborn as sns\n",
    "import matplotlib.pyplot as plt"
   ]
  },
  {
   "cell_type": "code",
   "execution_count": 12,
   "id": "72117e1b-9bd5-4b0f-b46f-6041860a191e",
   "metadata": {},
   "outputs": [],
   "source": [
    "import qiimp "
   ]
  },
  {
   "cell_type": "markdown",
   "id": "053fc47c-b149-4762-aaa6-e202d7254f91",
   "metadata": {},
   "source": [
    "## Model creation"
   ]
  },
  {
   "cell_type": "code",
   "execution_count": 13,
   "id": "e0d2e118-c031-440c-90d5-88809565b5fb",
   "metadata": {},
   "outputs": [],
   "source": [
    "assert g_chosen_llm in list(dict(os.environ).values()), f\"Please set the {g_chosen_llm} environment variable.\""
   ]
  },
  {
   "cell_type": "code",
   "execution_count": 14,
   "id": "4877816a",
   "metadata": {},
   "outputs": [],
   "source": [
    "if g_chosen_llm == g_CHATGPT:\n",
    "    from langchain_openai import ChatOpenAI\n",
    "    _g_chat_model = ChatOpenAI(model=\"gpt-4o-mini\")\n",
    "elif g_chosen_llm == g_GEMINI:\n",
    "    from langchain_google_genai import ChatGoogleGenerativeAI\n",
    "    _g_chat_model = ChatGoogleGenerativeAI(\n",
    "        model=\"gemini-1.5-pro\",\n",
    "        temperature=0,\n",
    "        max_tokens=None,\n",
    "        timeout=None,\n",
    "        max_retries=2,\n",
    "    )\n",
    "else:\n",
    "    raise ValueError(f\"Unrecognized llm model '{g_chosen_llm}'\")"
   ]
  },
  {
   "cell_type": "markdown",
   "id": "b39a5e8f-0cdb-49cf-953d-2c8ef667c327",
   "metadata": {},
   "source": [
    "## Chat creation"
   ]
  },
  {
   "cell_type": "code",
   "execution_count": 15,
   "id": "d6c90bf9",
   "metadata": {},
   "outputs": [],
   "source": [
    "def _start_chat(model, custom_prompt):    \n",
    "    # Define trimmer\n",
    "    # count each message as 1 \"token\" (token_counter=len) and \n",
    "    #keep only the last x messages\n",
    "    trimmer = trim_messages(strategy=\"last\", max_tokens=g_num_msgs_in_history, \n",
    "                            token_counter=len)\n",
    "    \n",
    "    workflow = StateGraph(state_schema=MessagesState)\n",
    "    \n",
    "    # Define the function that calls the model\n",
    "    def call_model(state: MessagesState):\n",
    "        trimmed_messages = trimmer.invoke(state[\"messages\"])\n",
    "        system_prompt = custom_prompt\n",
    "        messages = [SystemMessage(content=system_prompt)] + trimmed_messages\n",
    "        response = model.invoke(messages)\n",
    "        return {\"messages\": response}\n",
    "    \n",
    "    \n",
    "    # Define the node and edge\n",
    "    workflow.add_node(\"model\", call_model)\n",
    "    workflow.add_edge(START, \"model\")\n",
    "    \n",
    "    # Add simple in-memory checkpointer\n",
    "    memory = MemorySaver()\n",
    "    app = workflow.compile(checkpointer=memory)\n",
    "    return app"
   ]
  },
  {
   "cell_type": "code",
   "execution_count": 16,
   "id": "5085a89a-c08b-45cb-9688-a80ecf1f77dd",
   "metadata": {},
   "outputs": [],
   "source": [
    "_g_chat = _start_chat(_g_chat_model, g_ds_prompt)"
   ]
  },
  {
   "cell_type": "markdown",
   "id": "2b53f372-cc03-457f-9d2b-9c7669d09100",
   "metadata": {},
   "source": [
    "## Front-end helpers"
   ]
  },
  {
   "cell_type": "code",
   "execution_count": 17,
   "id": "157f9ff1-2058-43fb-8979-2a25e9c3eba6",
   "metadata": {},
   "outputs": [],
   "source": [
    "_g_front_end = JupyterFrontEnd()"
   ]
  },
  {
   "cell_type": "code",
   "execution_count": 18,
   "id": "e7a82240-b933-40ed-a7e5-d53fed07573c",
   "metadata": {},
   "outputs": [],
   "source": [
    "def _insert_and_populate(statement=None, move_up=True):\n",
    "    _g_front_end.commands.execute('notebook:insert-cell-below')\n",
    "    if statement is not None:\n",
    "        time.sleep(0.2)\n",
    "        _g_front_end.commands.execute('notebook:replace-selection', { 'text': statement})\n",
    "        _g_front_end.commands.execute('notebook:enter-edit-mode')\n",
    "\n",
    "    if move_up:\n",
    "        _g_front_end.commands.execute('notebook:move-cell-up') \n",
    "        \n",
    "\n",
    "def _insert_and_run(statement=None, move_up=True):\n",
    "    _insert_and_populate(statement, move_up)\n",
    "    \n",
    "    if statement is not None:\n",
    "        _g_front_end.commands.execute('notebook:run-cell-and-select-next')  \n",
    "        _g_front_end.commands.execute('notebook:enter-edit-mode')"
   ]
  },
  {
   "cell_type": "markdown",
   "id": "67a2dda8-43d5-4475-8bce-0e720dcd7716",
   "metadata": {},
   "source": [
    "## Prompt engineering"
   ]
  },
  {
   "cell_type": "code",
   "execution_count": 19,
   "id": "f34c83fd-c6d9-4272-8864-5918bbe5928b",
   "metadata": {},
   "outputs": [],
   "source": [
    "# ai helper prompts\n",
    "g_unique_set_prefix = \"for column named\"\n",
    "g_col_check_prefix = \"check column named\"\n",
    "g_code_prefix = \"write code to\"\n",
    "\n",
    "# non-ai prompts\n",
    "g_summarize_statement = \"summarize table\"\n",
    "\n",
    "# button prompts\n",
    "g_add_cell_statement = \"add cell\"\n",
    "g_copy_last_statement = \"copy it\"\n",
    "g_run_last_statement = \"now run it\"\n",
    "g_revert_df_statement = \"revert dataframe\""
   ]
  },
  {
   "cell_type": "code",
   "execution_count": 20,
   "id": "fc761687-6730-4dcb-81e4-3c3b0ca75bcb",
   "metadata": {},
   "outputs": [],
   "source": [
    "def _change_first_char(a_str, upper=True):\n",
    "    if upper:\n",
    "        a_lambda = lambda x: x.groups()[0].upper()\n",
    "    else:\n",
    "        a_lambda = lambda x: x.groups()[0].lower()\n",
    "        \n",
    "    # affect ONLY first letter, leave all the rest alone\n",
    "    # (so different that a_str.capitialize() or a_str.title())\n",
    "    return re.sub('([a-zA-Z])', a_lambda, a_str, 1)   \n",
    "\n",
    "\n",
    "def _expand_prompt(user_prompt, df_name, a_df):\n",
    "    df_prompt = f\"You are given the '{df_name}' dataframe with columns {list(a_df.columns)}. \"\n",
    "    \n",
    "    if user_prompt.startswith(g_col_check_prefix):\n",
    "        col_name = user_prompt.replace(g_col_check_prefix, \"\").strip().replace(\" \", \"_\")\n",
    "        user_prompt = _get_explore_col_prompt(col_name)     \n",
    "    # end if starts with check prefix--which itself adds a unique set prefix\n",
    "    \n",
    "    if user_prompt.startswith(g_unique_set_prefix):\n",
    "        new_prompt = _get_unique_set_prompt(user_prompt, a_df)\n",
    "    elif user_prompt.startswith(g_code_prefix):\n",
    "        new_prompt = _get_code_prompt(user_prompt)        \n",
    "    else:\n",
    "        new_prompt = user_prompt\n",
    "\n",
    "    new_prompt = df_prompt + new_prompt\n",
    "\n",
    "    return new_prompt\n",
    "\n",
    "\n",
    "def _get_explore_col_prompt(col_name):\n",
    "    explore_prompt = \"suggest the appropriate Pandas data type for the values in this column, very briefly hypothesize about what they represent, and indicate if any look invalid or unexpected.\" # Please keep responses short and to the point.\"\n",
    "    col_prompt = f\"{g_unique_set_prefix} {col_name}, {explore_prompt}\"\n",
    "    return col_prompt\n",
    "\n",
    "\n",
    "def _get_unique_set_prompt(user_prompt, a_df):\n",
    "    err_msg = f\"Please phrase your question as {g_unique_set_prefix} <col_name>, <question about unique values of column>\"\n",
    "    \n",
    "    if not user_prompt.startswith(g_unique_set_prefix):\n",
    "        return err_msg\n",
    "\n",
    "    prompt_split = user_prompt.split(\",\")\n",
    "    if len(prompt_split) < 2:\n",
    "        return err_msg\n",
    "\n",
    "    col_name = prompt_split[0].replace(g_unique_set_prefix, \"\").strip()\n",
    "    new_prompt = f\"For the column named '{col_name}' containing the set of values  {set(a_df[col_name])}, {','.join(prompt_split[1:])}\"\n",
    "    return new_prompt\n",
    "\n",
    "\n",
    "def _get_code_prompt(user_prompt):\n",
    "    err_msg = f\"Please phrase your question as {g_code_prefix} <perform some operation>\"\n",
    "    \n",
    "    if not user_prompt.startswith(g_code_prefix):\n",
    "        return err_msg\n",
    "\n",
    "    new_prompt = f\"{user_prompt} Do not include any non-comment explanations, import statements, or the instantiation of the dataframe. Do not include markdown formatting in your output. Provide runnable code as output.\"\n",
    "    return new_prompt"
   ]
  },
  {
   "cell_type": "markdown",
   "id": "38a62c2c-ebe1-4148-9f7d-529fbc435bcb",
   "metadata": {},
   "source": [
    "## State management"
   ]
  },
  {
   "cell_type": "code",
   "execution_count": 21,
   "id": "e297ff8d-4981-498d-ad12-1dc2b08f61d5",
   "metadata": {},
   "outputs": [],
   "source": [
    "_g_last_code_out = {}\n",
    "_g_last_working_df = {}"
   ]
  },
  {
   "cell_type": "code",
   "execution_count": 22,
   "id": "adc4b5c2-8abb-4729-850d-fb4cfe9a290a",
   "metadata": {},
   "outputs": [],
   "source": [
    "_g_LAST_CODE_NAME = \"AI-generated code\"\n",
    "_g_LAST_DF_NAME = \"g_working_df\"   \n",
    "\n",
    "\n",
    "def _save_state(state_dict, obj_to_save, state_name, use_last_execution_num=False):\n",
    "    # this does NOT copy the input obj_to_save before saving it--that should happen outside this call, if needed\n",
    "    execution_num = get_ipython().execution_count\n",
    "    if use_last_execution_num:\n",
    "        execution_num = execution_num - 1\n",
    "    \n",
    "    if execution_num in state_dict:\n",
    "        warnings.warn(f\"{state_name} already contains state for a cell with execution number {execution_num}, which will be overwritten.\")\n",
    "    state_dict[execution_num] = obj_to_save\n",
    "    return state_dict\n",
    "\n",
    "\n",
    "def _get_last_state(state_dict):\n",
    "    last_value = None\n",
    "    if state_dict is not None and len(state_dict)>0:\n",
    "        last_key, last_value = next(reversed(state_dict.items()))\n",
    "    return last_value\n",
    "\n",
    "\n",
    "def _df_changed():\n",
    "    #print(\"in _df_changed\")\n",
    "    last_working_df = _get_last_state(_g_last_working_df)\n",
    "\n",
    "    if last_working_df is not None:\n",
    "        #print(f\"g_working_df cols: {g_working_df.columns}\")\n",
    "        #print(f\"last_working_df cols: {last_working_df.columns}\")\n",
    "        if not last_working_df.equals(g_working_df):\n",
    "            #print(\"are different\")\n",
    "            return True\n",
    "    return False\n",
    "\n",
    "\n",
    "def _revert_df():\n",
    "    global g_working_df\n",
    "    msg = f\"There is no {_g_LAST_DF_NAME} state stored.\" \n",
    "\n",
    "    last_working_df = _get_last_state(_g_last_working_df)\n",
    "    if last_working_df is not None:\n",
    "        if _df_changed():\n",
    "            store_working_df()\n",
    "            g_working_df = last_working_df\n",
    "            msg = f\"{_g_LAST_DF_NAME} reverted to last saved state.\"\n",
    "        else:\n",
    "            msg = f\"{_g_LAST_DF_NAME} has not changed since last saved state.\"\n",
    "    return msg\n",
    "\n",
    "\n",
    "def store_working_df(a_df=None, use_last_execution_num=False):\n",
    "    if a_df is None:\n",
    "        a_df = g_working_df.copy()\n",
    "    _save_state(_g_last_working_df, a_df, _g_LAST_DF_NAME, use_last_execution_num=use_last_execution_num)\n",
    "\n",
    "\n",
    "def revert_df():\n",
    "    statement = _revert_df()\n",
    "    return statement\n",
    "\n",
    "\n",
    "# decorator\n",
    "def stateful(func):\n",
    "    def wrapper(*args, **kwargs):\n",
    "        if _df_changed():\n",
    "            store_working_df(use_last_execution_num=True)\n",
    "        func(*args, **kwargs) # No values returned in the wrapper\n",
    "    return wrapper\n",
    "\n",
    "# decorator with return value\n",
    "def stateful_return(func):\n",
    "    def wrapper(*args, **kwargs):\n",
    "        if _df_changed():\n",
    "            store_working_df(use_last_execution_num=True)\n",
    "        return func(*args, **kwargs)  # Include return here\n",
    "    return wrapper\n"
   ]
  },
  {
   "cell_type": "markdown",
   "id": "2fdc04f9-b069-401d-8cfe-ce93d19571a8",
   "metadata": {},
   "source": [
    "## Chat helper function creation"
   ]
  },
  {
   "cell_type": "code",
   "execution_count": 23,
   "id": "ce7f3e8d-f229-4d0e-8285-3abdc2387b0c",
   "metadata": {},
   "outputs": [],
   "source": [
    "# Instantiating an empty notebook allows prompt methods to bind to the \n",
    "# variable so the can use the real contents later without needing to be \n",
    "# passed an argument\n",
    "g_working_df = pd.DataFrame()"
   ]
  },
  {
   "cell_type": "code",
   "execution_count": 92,
   "id": "2f96d72c-b0c6-41fe-8573-fa04dc3e6ab1",
   "metadata": {},
   "outputs": [],
   "source": [
    "def _summarize_col(col_name, a_df=None, max_items_shown=10):\n",
    "    \"\"\" Returns list of lines. \"\"\"\n",
    "    \n",
    "    a_df = a_df if a_df is not None else g_working_df\n",
    "    \n",
    "    lines = []\n",
    "    lines.append(f\"{col_name}\")\n",
    "    lines.append(\"================\")\n",
    "    a_col = a_df[col_name]\n",
    "    \n",
    "    summary = []\n",
    "    col_uniques = a_col.unique()\n",
    "    count_uniques = len(col_uniques)\n",
    "    if a_col.is_unique:\n",
    "        summary.append(f\"All {count_uniques} values are unique.\")\n",
    "    else: \n",
    "        summary.append(f\"There are {count_uniques} unique value(s) in {len(a_col)} total values.\")\n",
    "    # end if all are unique\n",
    "        \n",
    "    caveat = f\"first {max_items_shown} \" if count_uniques > max_items_shown else \"\"\n",
    "    summary.append(f\"The {caveat}unique value(s):{col_uniques[:max_items_shown]}.\")\n",
    "    lines.append(\" \".join(summary))\n",
    "\n",
    "    lines.append(f\"The current datatype is {a_col.dtype}.\")\n",
    "    lines.append(\" \")\n",
    "    return lines\n",
    "\n",
    "\n",
    "@stateful\n",
    "def summarize_col(col_name, a_df=None):\n",
    "    result = _summarize_col(col_name, a_df)\n",
    "    result_str = \"\\n\".join(result)\n",
    "    print(result_str)    \n",
    "\n",
    "\n",
    "@stateful\n",
    "def summarize(a_df=None, max_items_shown=10):\n",
    "    a_df = a_df if a_df is not None else g_working_df\n",
    "    \n",
    "    result = [f\"The dataframe has {len(a_df)} rows and {len(a_df.columns)} columns.\", \" \"]\n",
    "    for curr_col_name in a_df.columns:\n",
    "        curr_result = _summarize_col(curr_col_name, a_df)\n",
    "        result.extend(curr_result)\n",
    "    # next column\n",
    "    result_str = \"\\n\".join(result)\n",
    "    print(result_str)\n",
    "\n",
    "\n",
    "@stateful\n",
    "def find_problem_headers(a_df=None):\n",
    "    a_df = a_df if a_df is not None else g_working_df\n",
    "\n",
    "    invalid_cols = a_df.columns[a_df.columns.str.contains(r'[^a-zA-Z0-9._ ]', regex=True)]\n",
    "    if len(invalid_cols) == 0:\n",
    "        out = \"No invalid column headers found.\"\n",
    "    else:\n",
    "        out = invalid_cols\n",
    "    print(out)\n",
    "\n",
    "\n",
    "@stateful\n",
    "def scrub_headers(a_df=None, lcase_headers=True):\n",
    "    a_df = a_df if a_df is not None else g_working_df\n",
    "\n",
    "    a_df.columns = a_df.columns.str.replace(r'[^a-zA-Z0-9]', '_', regex=True)  \n",
    "    a_df.columns = a_df.columns.str.replace(r'__+', '_', regex=True)  \n",
    "    a_df.columns = a_df.columns.str.strip('_')\n",
    "    if lcase_headers:\n",
    "        a_df.columns = a_df.columns.str.lower()\n",
    "    print(a_df.columns)\n",
    "\n",
    "\n",
    "@stateful\n",
    "def find_problem_records(a_df=None):\n",
    "    a_df = a_df if a_df is not None else g_working_df\n",
    "\n",
    "    # get records with leading or trailing spaces in any field\n",
    "    problem_records = a_df[a_df.apply(lambda x: x.str.contains(r'^\\s|\\s$', na=False).any(), axis=1)]\n",
    "    if len(problem_records) == 0:\n",
    "        print(\"No problem records found.\")\n",
    "    else:\n",
    "        display(problem_records)\n",
    "        return problem_records\n",
    "\n",
    "\n",
    "@stateful\n",
    "def scrub_problem_records():\n",
    "    global g_working_df\n",
    "    \n",
    "    # Remove leading or trailing spaces from any field in the dataframe\n",
    "    g_working_df = g_working_df.map(lambda x: x.strip() if isinstance(x, str) else x)\n",
    "    print(\"Problem records scrubbed.\")"
   ]
  },
  {
   "cell_type": "markdown",
   "id": "448617e8-c914-43c5-9878-d6e6b5310b9a",
   "metadata": {},
   "source": [
    "## Summary stats (DANI)"
   ]
  },
  {
   "cell_type": "code",
   "execution_count": 238,
   "id": "d7d93e76-28ee-495a-8184-76f25d455ff7",
   "metadata": {},
   "outputs": [],
   "source": [
    "def determine_col_type(col_name, a_df):\n",
    "    \n",
    "    # Ignore warnings generated by multiple calls to ask from the same cell\n",
    "    warnings.filterwarnings('ignore')\n",
    "    \n",
    "    col = a_df[col_name]\n",
    "    t = ask_return(f'based on the following entries: {col}, in a column named {col_name} is this categorical or numeric or identifier. Give a one word answer either categorical or numeric or identifier.')\n",
    "\n",
    "    if 'identifier' in t.lower():\n",
    "        return 'identifier'\n",
    "    if 'categorical' in t.lower():\n",
    "        return 'categorical'\n",
    "    if 'numeric' in t.lower():\n",
    "        return 'numeric'\n",
    "\n",
    "\n",
    "def categorical_stats(col_name, a_df):\n",
    "\n",
    "    col = a_df[col_name]\n",
    "    counts = col.value_counts().to_string()\n",
    "\n",
    "    lines = []\n",
    "    lines.append(f'Column {col_name} thought to be categorical.')\n",
    "    lines.append('------ Summary Statistics ------')\n",
    "    lines.append(counts+'\\n')\n",
    "    \n",
    "    return lines\n",
    "\n",
    "\n",
    "def numeric_stats(col_name, a_df):\n",
    "\n",
    "    # Drop nan values, coerce to numeric, then drop nans again\n",
    "    col = a_df[col_name]\n",
    "    new_col = pd.to_numeric(col.dropna(), errors='coerce')\n",
    "    new_col = new_col.dropna()\n",
    "    \n",
    "    MIN = min(new_col)\n",
    "    MAX = max(new_col)\n",
    "    MED = np.median(new_col)\n",
    "    \n",
    "    lines = []\n",
    "    lines.append(f'Column {col_name} thought to be numeric.')\n",
    "    lines.append('------ Summary Statistics ------')\n",
    "    lines.append(f'min: {MIN}\\nmax: {MAX}\\nmedian: {MED}\\n')\n",
    "    \n",
    "    return lines\n",
    "\n",
    "def id_stats(col_name, a_df):\n",
    "    \n",
    "    lines = [f'Column {col_name} thought to be identifier.\\n']\n",
    "    return lines\n",
    "    \n",
    "\n",
    "def stats_from_col(col_name, a_df=None, max_items_shown=10):\n",
    "    \"\"\" Infers type of column then computes \n",
    "        summary statistics for the column. \n",
    "        Returns stats (list of lines - strings). \"\"\"\n",
    "\n",
    "    a_df = a_df if a_df is not None else g_working_df\n",
    "\n",
    "    type_of = determine_col_type(col_name, a_df)\n",
    "\n",
    "    stats = _summarize_col(col_name, a_df) # List of lines\n",
    "\n",
    "    if type_of == 'categorical':\n",
    "        stats += categorical_stats(col_name, a_df)\n",
    "\n",
    "    elif type_of == 'numeric':\n",
    "        stats += numeric_stats(col_name, a_df)\n",
    "\n",
    "    elif type_of == 'identifier':\n",
    "        stats += id_stats(col_name, a_df)\n",
    "\n",
    "    stats.append('\\n')\n",
    "\n",
    "    return stats\n",
    "\n",
    "@stateful\n",
    "def summarize_stats(a_df=None, max_items_shown=10):\n",
    "    \"\"\" Infers all column types and reports summary statistics. \"\"\"\n",
    "\n",
    "    a_df = a_df if a_df is not None else g_working_df\n",
    "    result = []\n",
    "    for c in a_df.columns:\n",
    "        curr_result = stats_from_col(c, a_df)\n",
    "        result.extend(curr_result)\n",
    "    result_str = '\\n'.join(result)\n",
    "\n",
    "    print(result_str)\n",
    "\n",
    "    "
   ]
  },
  {
   "cell_type": "markdown",
   "id": "fecc83e1-f688-4c8b-b068-3347e5fec280",
   "metadata": {},
   "source": [
    "## Asking a question and exploring a column"
   ]
  },
  {
   "cell_type": "code",
   "execution_count": 58,
   "id": "774a823f-6b33-427a-83b6-bc79bd236283",
   "metadata": {},
   "outputs": [],
   "source": [
    "def _ask(user_prompt, df_name=None, a_df=None):\n",
    "    df_name = df_name if df_name is not None else \"g_working_df\"\n",
    "    a_df = a_df if a_df is not None else g_working_df\n",
    "    \n",
    "    new_prompt = _expand_prompt(user_prompt, df_name, a_df)    \n",
    "    result = _g_chat.invoke(\n",
    "        {\"messages\": [HumanMessage(content=new_prompt)]},\n",
    "        config={\"configurable\": {\"thread_id\": \"1\"}},\n",
    "    )\n",
    "    return new_prompt, result\n",
    "\n",
    "\n",
    "def _get_result_text(a_result):\n",
    "    return a_result.get(\"messages\")[-1].content\n",
    "\n",
    "\n",
    "def _clean_answer(answer_str):\n",
    "    answer_str = re.sub(\"^```python\\n\", \"\", answer_str)\n",
    "    answer_str = re.sub(\"\\n```$\", \"\", answer_str)   \n",
    "    return answer_str\n",
    "    \n",
    "\n",
    "def _explore_col(col_name, df_name=None, a_df=None):\n",
    "    full_prompt = _get_explore_col_prompt(col_name)\n",
    "    return _ask(full_prompt, df_name, a_df)\n",
    "\n",
    "\n",
    "def _run_non_ai_prompts(user_prompt):\n",
    "    ai_needed = False\n",
    "    \n",
    "    # Note, these have to be full prompts, not prompt prefixes\n",
    "    if user_prompt == g_summarize_statement:\n",
    "        summarize()\n",
    "    else:\n",
    "        ai_needed = True\n",
    "    return ai_needed\n",
    "    \n",
    "\n",
    "@stateful\n",
    "def explore_col(col_name, df_name=None, a_df=None):\n",
    "    _, result = _explore_col(col_name, df_name, a_df)\n",
    "    print(_get_result_text(result))\n",
    "\n",
    "\n",
    "@stateful\n",
    "def ask(user_prompt, df_name=None, a_df=None, show_prompt=False):  \n",
    "    orig_prompt = user_prompt\n",
    "\n",
    "    try:\n",
    "        user_prompt = _change_first_char(user_prompt, upper=False)\n",
    "        ai_needed = _run_non_ai_prompts(user_prompt)\n",
    "    \n",
    "        if ai_needed:\n",
    "            # otherwise, ask AI\n",
    "            prompt, result = _ask(user_prompt, df_name, a_df)  \n",
    "            output = _get_result_text(result)\n",
    "            output = _clean_answer(output)\n",
    "        \n",
    "            if show_prompt:\n",
    "                output = prompt + \"\\n\\n\" + output\n",
    "            _save_state(_g_last_code_out, output, _g_LAST_CODE_NAME)\n",
    "            print(output)\n",
    "\n",
    "    #except Exception as ex:\n",
    "    #    print(f\"I don't understand the prompt:\\n{orig_prompt}\")\n",
    "    finally:\n",
    "        pass\n",
    "\n",
    "    return output\n",
    "\n",
    "@stateful_return\n",
    "def ask_return(user_prompt, df_name=None, a_df=None, show_prompt=False):  \n",
    "    orig_prompt = user_prompt\n",
    "\n",
    "    try:\n",
    "        user_prompt = _change_first_char(user_prompt, upper=False)\n",
    "        ai_needed = _run_non_ai_prompts(user_prompt)\n",
    "    \n",
    "        if ai_needed:\n",
    "            # otherwise, ask AI\n",
    "            prompt, result = _ask(user_prompt, df_name, a_df)  \n",
    "            output = _get_result_text(result)\n",
    "            output = _clean_answer(output)\n",
    "        \n",
    "            if show_prompt:\n",
    "                output = prompt + \"\\n\\n\" + output\n",
    "            _save_state(_g_last_code_out, output, _g_LAST_CODE_NAME)\n",
    "\n",
    "    #except Exception as ex:\n",
    "    #    print(f\"I don't understand the prompt:\\n{orig_prompt}\")\n",
    "    finally:\n",
    "        pass\n",
    "\n",
    "    return output"
   ]
  },
  {
   "cell_type": "markdown",
   "id": "0a6274fd-b43f-4dad-83fd-f6ff5eabfad8",
   "metadata": {},
   "source": [
    "## Widget creation"
   ]
  },
  {
   "cell_type": "code",
   "execution_count": 59,
   "id": "1013f04f-a77a-4512-a367-54ca983a3783",
   "metadata": {},
   "outputs": [],
   "source": [
    "# from https://github.com/jupyter-widgets/ipywidgets/issues/2962#issuecomment-724210454\n",
    "class ConfirmationButton(widgets.HBox):\n",
    "    button_style = Any(default_value='')\n",
    "    description = Unicode()\n",
    "    disabled = Bool()\n",
    "    icon = Unicode()\n",
    "    layout = Any()\n",
    "    style = Any()\n",
    "    tooltip = Unicode()\n",
    "    \n",
    "    def  __init__(self, **kwargs):\n",
    "        super().__init__(**kwargs)\n",
    "        self._button = widgets.Button(**kwargs)\n",
    "        self._confirm_btn = widgets.Button(description='Confirm', icon='check', \n",
    "                                           button_style='success', layout=dict(width='auto'))\n",
    "        self._cancel_btn = widgets.Button(description='Cancel', icon='times', \n",
    "                                          button_style='warning', layout=dict(width='auto'))\n",
    "        self._button.on_click(self._on_btn_click)\n",
    "        self._cancel_btn.on_click(self._on_btn_click)\n",
    "        self._confirm_btn.on_click(self._on_btn_click)\n",
    "        self.children = [self._button]\n",
    "        for key in self._button.keys:\n",
    "            if key[0]!='_':\n",
    "                link((self._button,key), (self, key))\n",
    "        \n",
    "    def on_click(self, *args, **kwargs):\n",
    "        self._confirm_btn.on_click(*args, **kwargs)\n",
    "        \n",
    "    def _on_btn_click(self, b):\n",
    "        if b==self._button:\n",
    "            self.children = [self._confirm_btn, self._cancel_btn]\n",
    "        else:\n",
    "            self.children = [self._button]"
   ]
  },
  {
   "cell_type": "code",
   "execution_count": 60,
   "id": "c3aedcf5-e567-425c-91b5-695b09b7b695",
   "metadata": {},
   "outputs": [],
   "source": [
    "def _add_cell(a_button=None):\n",
    "    #_g_front_end.commands.execute('notebook:insert-cell-below')\n",
    "    #_g_front_end.commands.execute('notebook:move-cell-up')  \n",
    "    _insert_and_run(None, move_up=True)\n",
    "    \n",
    "\n",
    "def _revert_df_from_button(a_button=None, move_up=True):\n",
    "    statement = revert_df()\n",
    "    _insert_and_run(statement, move_up=move_up) \n",
    "\n",
    "\n",
    "def _copy_or_run_suggestion(a_button, move_up, copy_only=True):\n",
    "    statement = _get_last_state(_g_last_code_out)\n",
    "    statement = statement if statement else f'There is no {_g_LAST_CODE_NAME} stored.' \n",
    "    if copy_only:\n",
    "        _insert_and_populate(statement, move_up=move_up)\n",
    "    else:\n",
    "        _insert_and_run(statement, move_up=move_up)    \n",
    "\n",
    "\n",
    "@stateful\n",
    "def copy_suggestion(a_button=None, move_up=True):\n",
    "    _copy_or_run_suggestion(a_button, move_up, copy_only=True)\n",
    "\n",
    "\n",
    "@stateful\n",
    "def run_suggestion(a_button=None, move_up=True):\n",
    "    _copy_or_run_suggestion(a_button, move_up, copy_only=False)"
   ]
  },
  {
   "cell_type": "code",
   "execution_count": 61,
   "id": "4fb74c17-132d-4b6b-8a9f-192dc7508605",
   "metadata": {},
   "outputs": [],
   "source": [
    "def _add_first_button(a_widget, a_button):\n",
    "    curr_buttons = list(a_widget.children)\n",
    "    curr_buttons.insert(0, a_button)\n",
    "    return tuple(curr_buttons)  "
   ]
  },
  {
   "cell_type": "code",
   "execution_count": 62,
   "id": "9580553a-48d1-48fa-bd03-d5fbba8fc224",
   "metadata": {},
   "outputs": [],
   "source": [
    "_g_add_cell_button = widgets.Button(\n",
    "    description=\"Add Cell\",\n",
    "    button_style=\"primary\",  # full blue\n",
    "    tooltip=\"Add an empty code cell\",\n",
    "    icon=\"plus\"\n",
    ")\n",
    "_g_add_cell_button.on_click(_add_cell)\n",
    "\n",
    "\n",
    "_g_copy_suggestion_button = widgets.Button(\n",
    "    description=\"Copy Suggestion\",\n",
    "    tooltip=\"Copy AI-generated code to a new cell\",\n",
    "    icon=\"copy\"\n",
    ")\n",
    "_g_copy_suggestion_button.style.button_color = 'lightgreen'\n",
    "_g_copy_suggestion_button.on_click(copy_suggestion)\n",
    "\n",
    "\n",
    "_g_run_suggestion_button = widgets.Button(\n",
    "    description=\"Run Suggestion\",\n",
    "    button_style=\"info\",  # light blue\n",
    "    tooltip=\"Run last AI-generated code in a new cell\",\n",
    "    icon=\"run\"\n",
    ")\n",
    "_g_run_suggestion_button.on_click(run_suggestion)\n",
    "\n",
    "_g_undo_button = ConfirmationButton(\n",
    "    description='Revert Df', \n",
    "    tooltip=\"Revert dataframe to last stored state\",\n",
    "    button_style=\"warning\"  # red\n",
    ")\n",
    "_g_undo_button.on_click(_revert_df_from_button)\n",
    "\n",
    "\n",
    "g_buttons = widgets.HBox([_g_add_cell_button, _g_copy_suggestion_button, _g_run_suggestion_button, _g_undo_button])"
   ]
  },
  {
   "cell_type": "code",
   "execution_count": 63,
   "id": "9c86df86-172a-4dcb-bcd7-f87c3f9cb70a",
   "metadata": {},
   "outputs": [],
   "source": [
    "_g_unrecognized_msg = \"I didn't catch that.\"\n",
    "\n",
    "if g_use_speech:\n",
    "    _g_speech_recognizer = speech_recog.Recognizer()\n",
    "    \n",
    "    # lifted from https://youtu.be/2kSPbH4jWME\n",
    "    _g_record_button = widgets.Button(\n",
    "        description=\"Record\",\n",
    "        disabled=False,\n",
    "        button_style=\"success\",  # full green\n",
    "        icon=\"microphone\"\n",
    "    )\n",
    "    \n",
    "    def _record_audio(a_button):\n",
    "        a_button.description = \"Recording\"\n",
    "        with speech_recog.Microphone() as source: \n",
    "            # listen for 10 seconds for speech to start, \n",
    "            # listen for 10 seconds after speech pauses for it to restart\n",
    "            audio = _g_speech_recognizer.listen(source, 10, 10)\n",
    "        \n",
    "        try:\n",
    "            txt = _g_speech_recognizer.recognize_google(audio)\n",
    "        except speech_recog.UnknownValueError:\n",
    "            txt = f\"print('{_g_unrecognized_msg}')\"\n",
    "    \n",
    "        a_button.description = \"Record\"\n",
    "\n",
    "        if txt == g_add_cell_statement:\n",
    "            _add_cell()\n",
    "        elif txt == g_run_last_statement:\n",
    "            run_suggestion()\n",
    "        elif txt == g_revert_df_statement:\n",
    "            _revert_df()\n",
    "        else:\n",
    "            statement = f\"ask('{txt}')\"\n",
    "            _insert_and_run(statement)\n",
    "\n",
    "\n",
    "    _g_record_button.on_click(_record_audio)\n",
    "    g_buttons.children = _add_first_button(g_buttons, _g_record_button)\n",
    "# end if use speech"
   ]
  },
  {
   "cell_type": "markdown",
   "id": "280758df-3728-4784-b989-74df20b2b9ce",
   "metadata": {},
   "source": [
    "## Dataframe helpers"
   ]
  },
  {
   "cell_type": "code",
   "execution_count": 64,
   "id": "d7a1bde4-e81c-45f1-9749-3580814f5163",
   "metadata": {},
   "outputs": [],
   "source": [
    "g_TAB_SEP = \"tab\"\n",
    "g_COMMA_SEP = \"comma\"\n",
    "\n",
    "pd.set_option('display.max_rows', None)\n",
    "pd.set_option('display.max_columns', None)\n",
    "\n",
    "\n",
    "def load_df(fp, sep_name=g_TAB_SEP, dtype=\"str\", override=False):\n",
    "    global g_working_df\n",
    "    if not override:\n",
    "        proposed_sep = None\n",
    "        if fp.endswith(\".csv\") and sep_name==g_TAB_SEP:\n",
    "            proposed_sep = g_COMMA_SEP\n",
    "        elif (fp.endswith(\".txt\") or fp.endswith(\".tsv\")) and sep_name==g_COMMA_SEP:\n",
    "            proposed_sep = g_TAB_SEP\n",
    "    \n",
    "        if proposed_sep is not None:\n",
    "            msg = (f\"Are you sure this file shouldn't be loaded with a {proposed_sep}?\\n\"\n",
    "                   f\"If it should be, rerun `load_df` with the `sep_name` parameter \"\n",
    "                   f\"set to {proposed_sep}.\\n\"\n",
    "                   f\"If not, you can run `load_df` with the `override` parameter \"\n",
    "                   f\"set to True.\")\n",
    "            print(msg)\n",
    "            return\n",
    "\n",
    "    real_sep = None\n",
    "    if sep_name == g_TAB_SEP:\n",
    "        real_sep = \"\\t\"\n",
    "    elif sep_name == g_COMMA_SEP:\n",
    "        real_sep = \",\"\n",
    "    else:\n",
    "        msg = (f\"'{sep_name}' is an unrecognized separator type.  Please choose one of the \"\n",
    "               f\" following recognized separators: {[g_TAB_SEP, g_COMMA_SEP]}.\")\n",
    "        print(msg)\n",
    "        return \n",
    "\n",
    "    loaded_df = pd.read_csv(fp, sep=real_sep, dtype=dtype)\n",
    "\n",
    "    if not override:\n",
    "        if len(g_working_df) > 0:\n",
    "            msg = (\"This load will overwrite the current contents of g_working_df.\\n\"\n",
    "                   \"If you don't want to load these contents, copy g_working_df to another \"\n",
    "                   \"dataframe variable before running this.\\n\"\n",
    "                   \"If you really don't care, rerun `load_df` with the `override` \"\n",
    "                   \"parameter set to True.\")\n",
    "            print(msg)\n",
    "            return\n",
    "            \n",
    "    g_working_df = loaded_df\n",
    "    store_working_df()\n",
    "    return g_working_df\n",
    "    #display_df()\n",
    "\n",
    "\n",
    "# conda install dtale -c conda-forge\n",
    "#import dtale\n",
    "#d = dtale.show(g_working_df, host='localhost', hide_drop_rows=True, hide_header_editor=True, allow_cell_edits=False, hide_column_menus=True)\n",
    "#d"
   ]
  },
  {
   "cell_type": "markdown",
   "id": "e81ba230-0387-4b4c-bc7a-dac620761d42",
   "metadata": {},
   "source": [
    "## Visualizing metadata"
   ]
  },
  {
   "cell_type": "code",
   "execution_count": 236,
   "id": "da10915b-32a2-4803-abea-c9f86f43daa3",
   "metadata": {},
   "outputs": [],
   "source": [
    "def _explore_col(col_name, df_name=None, a_df=None):\n",
    "    full_prompt = _get_explore_col_prompt(col_name)\n",
    "    return _ask(full_prompt, df_name, a_df)\n",
    "\n",
    "\n",
    "def visualize_col_categorical(col_name, df_name=None, a_df=None):\n",
    "    \"\"\"\n",
    "    Generates a bar plot for the value counts of a specified column.\n",
    "\n",
    "    Parameters:\n",
    "        col_name (str): The column to group by.\n",
    "        df_name (DataFrame): Name of dataframe if different than g_working_df.\n",
    "        a_df (DataFrame): Dataframe if differnt than g_working_df\n",
    "    \"\"\"\n",
    "\n",
    "    a_df = a_df if a_df is not None else g_working_df\n",
    "\n",
    "    sns.barplot(x=a_df[col_name].value_counts().index, y=a_df[col_name].value_counts().values)\n",
    "    plt.title(f\"Value Counts for {col_name}\")\n",
    "    plt.ylabel(\"Counts\")\n",
    "    plt.xlabel(col_name)\n",
    "    plt.xticks(rotation=45)\n",
    "    plt.show()\n",
    "\n",
    "def visualize_col_numeric(col_name, df_name=None, a_df=None):\n",
    "    \"\"\"\n",
    "    Generates a bar plot for the value counts of a specified column.\n",
    "\n",
    "    Parameters:\n",
    "        col_name (str): The column to group by.\n",
    "        df_name (DataFrame): Name of dataframe if different than g_working_df.\n",
    "        a_df (DataFrame): Dataframe if differnt than g_working_df\n",
    "    \"\"\"\n",
    "\n",
    "    a_df = a_df if a_df is not None else g_working_df\n",
    "\n",
    "    df = a_df[[num_col]]\n",
    "    df[num_col] = pd.to_numeric(df[num_col], errors='coerce')\n",
    "    df = df.dropna()\n",
    "\n",
    "    sns.kdeplot(\n",
    "       data=df, x=num_col,\n",
    "       fill=True, common_norm=False,\n",
    "       alpha=.5, linewidth=0,\n",
    "    )\n",
    "    plt.title(f'{col_name}')\n",
    "    plt.show()\n",
    "\n",
    "\n",
    "def visualize_col(col_name, df_name=None, a_df=None):\n",
    "\n",
    "    a_df = a_df if a_df is not None else g_working_df\n",
    "    \n",
    "    type_of = determine_col_type(col_name, a_df)\n",
    "\n",
    "    if type_of == 'categorical':\n",
    "        visualize_col_categorical(col_name, a_df)\n",
    "\n",
    "    if type_of == 'numeric':\n",
    "        visualize_col_numeric(col_name, a_df)\n",
    "\n",
    "    if type_of == 'identifier':\n",
    "        print(id_stats(col_name)[0])\n",
    "\n",
    "def visualize_two_cols_cc(col_name1, col_name2, df_name=None, a_df=None):\n",
    "    \n",
    "    a_df = a_df if a_df is not None else g_working_df\n",
    "\n",
    "    counts = a_df.groupby([col_name1, col_name2]).size().unstack(fill_value=0)\n",
    "    counts.plot(kind='bar', stacked=True)\n",
    "    plt.xlabel(col_name1)\n",
    "    plt.ylabel('Number of Observations')\n",
    "    plt.title(f'Observations by {col_name1} and {col_name2}')\n",
    "    plt.xticks(rotation=45)\n",
    "    plt.show()\n",
    "\n",
    "\n",
    "def visualize_two_cols_cn(cat_col, num_col, df_name=None, a_df=None):\n",
    "    \"\"\"\n",
    "    Generates a histogram plot of the different values colored by category.\n",
    "    \"\"\"\n",
    "    a_df = a_df if a_df is not None else g_working_df\n",
    "\n",
    "    df = a_df[[num_col, cat_col]]\n",
    "    df[num_col] = pd.to_numeric(df[num_col], errors='coerce')\n",
    "    df[cat_col] = df[cat_col].astype('category')\n",
    "    df = df.dropna()\n",
    "\n",
    "    sns.kdeplot(\n",
    "       data=df, x=num_col, hue=cat_col,\n",
    "       fill=True, common_norm=False,\n",
    "       alpha=.5, linewidth=0,\n",
    "    )\n",
    "    \n",
    "    plt.title(f'{num_col} by {cat_col}')\n",
    "    plt.show()\n",
    "\n",
    "\n",
    "def visualize_two_cols_nn(cat_col, num_col, df_name=None, a_df=None):\n",
    "    \"\"\"\n",
    "    Generates a histogram plot of the different values colored by category.\n",
    "    \"\"\"\n",
    "    a_df = a_df if a_df is not None else g_working_df\n",
    "\n",
    "    df = a_df[[col_name1, col_name2]]\n",
    "    df[col_name1] = pd.to_numeric(df[col_name1], errors='coerce')\n",
    "    df[col_name2] = pd.to_numeric(df[col_name2], errors='coerce')\n",
    "    df = df.dropna()\n",
    "    \n",
    "    sns.scatterplot(\n",
    "        data=df,\n",
    "        x=col_name1,\n",
    "        y=col_name2\n",
    "    )\n",
    "    plt.title(f'{col_name1} by {col_name2}')\n",
    "    plt.show()\n",
    "\n",
    "\n",
    "def visualize_two_cols(col_name1, col_name2, df_name=None, a_df=None):\n",
    "    \"\"\"\n",
    "    Generates a stacked bar plot for the counts of two categorical columns.\n",
    "\n",
    "    Parameters:\n",
    "        col_name1 (str): The first column to group by.\n",
    "        col_name2 (str): The second column to group by.\n",
    "        df_name (DataFrame): Name of dataframe if different than g_working_df.\n",
    "        a_df (DataFrame): Dataframe if differnt than g_working_df\n",
    "    \"\"\"\n",
    "\n",
    "    a_df = a_df if a_df is not None else g_working_df\n",
    "\n",
    "    type_of1 = determine_col_type(col_name1, a_df)\n",
    "    type_of2 = determine_col_type(col_name2, a_df)\n",
    "    print(f'Column {col_name1} thought to be {type_of1}.\\nColumn {col_name2} thought to be {type_of2}.')\n",
    "\n",
    "    if type_of1 == 'categorical' and type_of2 == 'categorical':\n",
    "        visualize_two_cols_cc(col_name1, col_name2, a_df)\n",
    "    elif type_of1 == 'categorical' and type_of2 == 'numeric':\n",
    "        visualize_two_cols_cn(col_name1, col_name2, a_df)\n",
    "    elif type_of1 == 'numeric' and type_of2 == 'categorical':\n",
    "        visualize_two_cols_cn(col_name2, col_name1, a_df)\n",
    "    elif type_of1 == 'numeric' and type_of2 == 'numeric':\n",
    "        visualize_two_cols_nn(col_name1, col_name2, a_df)\n",
    "    else:\n",
    "        print('Invalid column types.')\n",
    "\n"
   ]
  },
  {
   "cell_type": "markdown",
   "id": "d07897dc-099c-4ab7-9208-04cbbef5a335",
   "metadata": {},
   "source": [
    "## Interactive investigation"
   ]
  },
  {
   "cell_type": "markdown",
   "id": "00980037-d3a5-473e-878f-8a7c8cdeb173",
   "metadata": {},
   "source": [
    "To talk to the AI, either type your request within the function `ask()` or, if voice control is enabled, clicking the record button (which will call the `ask` function with your spoken input).\n",
    "\n",
    "Special statements:\n",
    "* `check column named <column name>`: asks the AI to draw summarized conclusions about the column and its contents.\n",
    "    * Example: `ask('check column named time initiate breast')`\n",
    "* `write code to <description of action>`: asks the AI to limit its responses to code and comments only.\n",
    "    * Example: `ask('write code to replace within one hour of birth with less one hour')`\n",
    "* `now run it`: asks the AI to run the last code it wrote"
   ]
  },
  {
   "cell_type": "raw",
   "id": "eda376f3-fce6-4549-9b54-8cfb29696eeb",
   "metadata": {
    "vscode": {
     "languageId": "raw"
    }
   },
   "source": [
    "external_metadata_fp = \"/Users/abirmingham/Desktop/trpca/15612_expanded_sample_info_10112024_PRJNA277905.csv\"\n",
    "qiita_metadata_fp = \"/Users/abirmingham/Desktop/trpca/15612_20240714-052306.txt\"\n",
    "study_config_fp = '/Users/abirmingham/Desktop/trpca/trpca_study.yml'"
   ]
  },
  {
   "cell_type": "code",
   "execution_count": 65,
   "id": "8840b19f",
   "metadata": {},
   "outputs": [],
   "source": [
    "external_metadata_fp = \"./15612_expanded_sample_info_10112024_PRJNA277905.csv\"\n",
    "qiita_metadata_fp = \"./15612_20240714-052306.txt\"\n",
    "study_config_fp = '/Users/abirmingham/Desktop/trpca/trpca_study.yml'"
   ]
  },
  {
   "cell_type": "markdown",
   "id": "60df0088-ae1c-40bf-8594-527e60ca0bec",
   "metadata": {},
   "source": [
    "#### Examine the external metadata"
   ]
  },
  {
   "cell_type": "code",
   "execution_count": 66,
   "id": "d91ecea5-4d33-4108-ae41-a42f6df69119",
   "metadata": {
    "scrolled": true
   },
   "outputs": [
    {
     "name": "stdout",
     "output_type": "stream",
     "text": [
      "This load will overwrite the current contents of g_working_df.\n",
      "If you don't want to load these contents, copy g_working_df to another dataframe variable before running this.\n",
      "If you really don't care, rerun `load_df` with the `override` parameter set to True.\n"
     ]
    }
   ],
   "source": [
    "load_df(external_metadata_fp, sep_name=\"comma\")"
   ]
  },
  {
   "cell_type": "markdown",
   "id": "c0f696c3-04e7-4ad6-b06e-4522414902ab",
   "metadata": {},
   "source": [
    "**Make external metadata columns Qiita-safe**"
   ]
  },
  {
   "cell_type": "code",
   "execution_count": 67,
   "id": "a4ca14d7-23e6-4a39-95a3-17ef4c2067bf",
   "metadata": {},
   "outputs": [
    {
     "name": "stdout",
     "output_type": "stream",
     "text": [
      "No invalid column headers found.\n"
     ]
    }
   ],
   "source": [
    "find_problem_headers()"
   ]
  },
  {
   "cell_type": "markdown",
   "id": "366a19e5-53e4-4ea9-9f64-299921b8ed1a",
   "metadata": {},
   "source": [
    "One of these ('Skin Prick Test (≥3+)') is too complicated to be automatically scrubbed."
   ]
  },
  {
   "cell_type": "code",
   "execution_count": 68,
   "id": "dcc7317f-9d3e-48ad-bf06-5cf665025394",
   "metadata": {},
   "outputs": [
    {
     "name": "stdout",
     "output_type": "stream",
     "text": [
      "g_working_df.rename(columns={'Skin Prick Test (≥3+)': 'Skin_Prick_Test_gte3plus'}, inplace=True)\n"
     ]
    }
   ],
   "source": [
    "ask(\"Write code to rename the column 'Skin Prick Test (≥3+)' to 'Skin_Prick_Test_gte3plus'.\")"
   ]
  },
  {
   "cell_type": "code",
   "execution_count": 69,
   "id": "3bc5a4fb-2546-4d07-b824-6f0db6127c2b",
   "metadata": {},
   "outputs": [],
   "source": [
    "run_suggestion()"
   ]
  },
  {
   "cell_type": "code",
   "execution_count": 70,
   "id": "6daba91d-4018-4902-8f36-a455e37207e2",
   "metadata": {},
   "outputs": [],
   "source": [
    "g_working_df.rename(columns={'Skin Prick Test (≥3+)': 'Skin_Prick_Test_gte3plus'}, inplace=True)"
   ]
  },
  {
   "cell_type": "code",
   "execution_count": 71,
   "id": "495f9e13-7d25-4045-90b0-5ba50d14b404",
   "metadata": {},
   "outputs": [
    {
     "name": "stdout",
     "output_type": "stream",
     "text": [
      "No invalid column headers found.\n"
     ]
    }
   ],
   "source": [
    "find_problem_headers()"
   ]
  },
  {
   "cell_type": "code",
   "execution_count": 72,
   "id": "cc4557c9-6de5-4305-80a8-d9e5ac725208",
   "metadata": {},
   "outputs": [],
   "source": [
    "g_working_df.rename(columns={'Skin Prick Test (≥3+)': 'Skin_Prick_Test_gte3plus'}, inplace=True)"
   ]
  },
  {
   "cell_type": "markdown",
   "id": "dbf4d585-6c81-4ced-a47a-7b811a9b14d3",
   "metadata": {},
   "source": [
    "The remainder should be fixable automatically."
   ]
  },
  {
   "cell_type": "code",
   "execution_count": 73,
   "id": "c298f229-e397-4112-84a5-623222b74e05",
   "metadata": {},
   "outputs": [
    {
     "name": "stdout",
     "output_type": "stream",
     "text": [
      "Index(['libraryid', 'gender', 'year_of_birth', 'ethnicity', 'country_of_birth',\n",
      "       'weight_kg', 'height_cm', 'alcohol', 'passive_smoking',\n",
      "       'presence_of_pets', 'flg_genotype', 'blomia_tropicalis_dust_mite',\n",
      "       'dermatophagoides_pteronyssinus_dust_mite',\n",
      "       'elaeis_guineensis_oil_palm_pollen', 'curvularia_spp_fungus',\n",
      "       'skin_prick_test_gte3plus', 'asthma_status', 'ar_status', 'ad_status',\n",
      "       'sample_type', 'sampling_area', 'sampling_method'],\n",
      "      dtype='object')\n"
     ]
    }
   ],
   "source": [
    "scrub_headers()"
   ]
  },
  {
   "cell_type": "code",
   "execution_count": 74,
   "id": "b5e22660-ec54-4b2b-97fd-010283ed64cf",
   "metadata": {
    "scrolled": true
   },
   "outputs": [
    {
     "name": "stdout",
     "output_type": "stream",
     "text": [
      "The dataframe has 94 rows and 22 columns.\n",
      " \n",
      "libraryid\n",
      "================\n",
      "All 94 values are unique. The first 10 unique value(s):['WBE005' 'WBE006' 'WBE007' 'WBE008' 'WBE017' 'WBE018' 'WBE019' 'WBE020'\n",
      " 'WBS016' 'WBS017'].\n",
      "The current datatype is object.\n",
      " \n",
      "gender\n",
      "================\n",
      "There are 3 unique value(s) in 94 total values. The unique value(s):['M' 'F' nan].\n",
      "The current datatype is object.\n",
      " \n",
      "year_of_birth\n",
      "================\n",
      "There are 14 unique value(s) in 94 total values. The first 10 unique value(s):['1986' '1987' '1988' '1993' '1985' '1992' '1996' '1994' '1991' '1990'].\n",
      "The current datatype is object.\n",
      " \n",
      "ethnicity\n",
      "================\n",
      "There are 3 unique value(s) in 94 total values. The unique value(s):['Chinese' 'Caucasian' nan].\n",
      "The current datatype is object.\n",
      " \n",
      "country_of_birth\n",
      "================\n",
      "There are 9 unique value(s) in 94 total values. The unique value(s):['Indonesia' 'Singapore' 'China' 'Malaysia' 'Brunei' 'Hong Kong'\n",
      " 'United Kingdom' 'Poland' nan].\n",
      "The current datatype is object.\n",
      " \n",
      "weight_kg\n",
      "================\n",
      "There are 30 unique value(s) in 94 total values. The first 10 unique value(s):['Not collected' '47' '63' '53' '126' '70' '45.9' '50.5' '46' '62'].\n",
      "The current datatype is object.\n",
      " \n",
      "height_cm\n",
      "================\n",
      "There are 27 unique value(s) in 94 total values. The first 10 unique value(s):['Not collected' '178' '163' '162' '174.4' '172' '168' '154' '160' '155'].\n",
      "The current datatype is object.\n",
      " \n",
      "alcohol\n",
      "================\n",
      "There are 3 unique value(s) in 94 total values. The unique value(s):['Non-drinker' 'Occasionally' nan].\n",
      "The current datatype is object.\n",
      " \n",
      "passive_smoking\n",
      "================\n",
      "There are 3 unique value(s) in 94 total values. The unique value(s):['No' 'Yes' nan].\n",
      "The current datatype is object.\n",
      " \n",
      "presence_of_pets\n",
      "================\n",
      "There are 4 unique value(s) in 94 total values. The unique value(s):['No' '0' 'Yes' nan].\n",
      "The current datatype is object.\n",
      " \n",
      "flg_genotype\n",
      "================\n",
      "There are 6 unique value(s) in 94 total values. The unique value(s):['WT' 'S1515X' 'E2422X' 'E2422X/3321delA' '-' nan].\n",
      "The current datatype is object.\n",
      " \n",
      "blomia_tropicalis_dust_mite\n",
      "================\n",
      "There are 6 unique value(s) in 94 total values. The unique value(s):['0' '3+' '2+' '1+' 'Indeterminate' nan].\n",
      "The current datatype is object.\n",
      " \n",
      "dermatophagoides_pteronyssinus_dust_mite\n",
      "================\n",
      "There are 7 unique value(s) in 94 total values. The unique value(s):['0' '3+' '2+' '1+' '4+' 'Indeterminate' nan].\n",
      "The current datatype is object.\n",
      " \n",
      "elaeis_guineensis_oil_palm_pollen\n",
      "================\n",
      "There are 5 unique value(s) in 94 total values. The unique value(s):['0' '3+' '1+' 'Indeterminate' nan].\n",
      "The current datatype is object.\n",
      " \n",
      "curvularia_spp_fungus\n",
      "================\n",
      "There are 5 unique value(s) in 94 total values. The unique value(s):['0' '1+' '3+' 'Indeterminate' nan].\n",
      "The current datatype is object.\n",
      " \n",
      "skin_prick_test_gte3plus\n",
      "================\n",
      "There are 4 unique value(s) in 94 total values. The unique value(s):['No' 'Yes' 'Indeterminate' nan].\n",
      "The current datatype is object.\n",
      " \n",
      "asthma_status\n",
      "================\n",
      "There are 5 unique value(s) in 94 total values. The unique value(s):['Control' 'Indeterminate' 'Intermediate' 'Case' nan].\n",
      "The current datatype is object.\n",
      " \n",
      "ar_status\n",
      "================\n",
      "There are 6 unique value(s) in 94 total values. The unique value(s):['Control' 'Indeterminate' 'Phenotype unknown' 'Case' 'Intermediate' nan].\n",
      "The current datatype is object.\n",
      " \n",
      "ad_status\n",
      "================\n",
      "There are 3 unique value(s) in 94 total values. The unique value(s):['Control' 'Case' nan].\n",
      "The current datatype is object.\n",
      " \n",
      "sample_type\n",
      "================\n",
      "There are 6 unique value(s) in 94 total values. The unique value(s):['Control' 'Atopic Control' 'Case' 'Gloves' 'Bench Top' 'Door Knob'].\n",
      "The current datatype is object.\n",
      " \n",
      "sampling_area\n",
      "================\n",
      "There are 5 unique value(s) in 94 total values. The unique value(s):['Antecubital fossa' 'Retroauricular crease' '(Left) Antecubital Fossa'\n",
      " '(Right) Antecubital Fossa' nan].\n",
      "The current datatype is object.\n",
      " \n",
      "sampling_method\n",
      "================\n",
      "There are 3 unique value(s) in 94 total values. The unique value(s):['tape' 'swab' 'cup scrub'].\n",
      "The current datatype is object.\n",
      " \n"
     ]
    }
   ],
   "source": [
    "summarize()"
   ]
  },
  {
   "cell_type": "markdown",
   "id": "53a4b77e-5bd3-41a4-b709-90f8bf49273b",
   "metadata": {},
   "source": [
    "**Clean up contents of external metadata**\n",
    "\n",
    "Let's start by checking out the presumed unique identifier."
   ]
  },
  {
   "cell_type": "code",
   "execution_count": 75,
   "id": "297b8ebc-cace-43e0-b802-ec07263eb703",
   "metadata": {},
   "outputs": [
    {
     "name": "stdout",
     "output_type": "stream",
     "text": [
      "The appropriate Pandas data type for the 'libraryid' column is `category` or `object`. The values appear to represent unique identifiers for samples or subjects in a study or dataset, likely related to biological or medical research. The entry 'WBE025*' contains an asterisk, which may signify an invalid or unexpected entry compared to the other identifiers.\n"
     ]
    }
   ],
   "source": [
    "explore_col(\"libraryid\")"
   ]
  },
  {
   "cell_type": "markdown",
   "id": "062a4e85-3eef-4ee7-96f0-ecb5045ec8c1",
   "metadata": {},
   "source": [
    "I don't like those trailing spaces.  In fact, I don't want trailing spaces in any column."
   ]
  },
  {
   "cell_type": "code",
   "execution_count": 76,
   "id": "f332da46-c059-44b0-a66d-62af44b9458c",
   "metadata": {},
   "outputs": [
    {
     "name": "stdout",
     "output_type": "stream",
     "text": [
      "No problem records found.\n"
     ]
    }
   ],
   "source": [
    "find_problem_records()"
   ]
  },
  {
   "cell_type": "code",
   "execution_count": 77,
   "id": "708838fc-e626-4955-9d2f-76d58eadd5fa",
   "metadata": {},
   "outputs": [
    {
     "name": "stdout",
     "output_type": "stream",
     "text": [
      "Problem records scrubbed.\n"
     ]
    }
   ],
   "source": [
    "scrub_problem_records()"
   ]
  },
  {
   "cell_type": "code",
   "execution_count": 78,
   "id": "b64ba544-0a25-4cbc-8c4c-598b9490f82f",
   "metadata": {},
   "outputs": [
    {
     "name": "stdout",
     "output_type": "stream",
     "text": [
      "No problem records found.\n"
     ]
    }
   ],
   "source": [
    "find_problem_records()"
   ]
  },
  {
   "cell_type": "code",
   "execution_count": 246,
   "id": "9e4033ec-7c96-44b3-a18e-7ba45dee21bf",
   "metadata": {},
   "outputs": [
    {
     "name": "stdout",
     "output_type": "stream",
     "text": [
      "libraryid\n",
      "================\n",
      "All 94 values are unique. The first 10 unique value(s):['WBE005' 'WBE006' 'WBE007' 'WBE008' 'WBE017' 'WBE018' 'WBE019' 'WBE020'\n",
      " 'WBS016' 'WBS017'].\n",
      "The current datatype is object.\n",
      " \n",
      "Column libraryid thought to be identifier.\n",
      "\n",
      "\n",
      "\n",
      "gender\n",
      "================\n",
      "There are 3 unique value(s) in 94 total values. The unique value(s):['M' 'F' nan].\n",
      "The current datatype is object.\n",
      " \n",
      "Column gender thought to be categorical.\n",
      "------ Summary Statistics ------\n",
      "gender\n",
      "M    50\n",
      "F    41\n",
      "\n",
      "\n",
      "\n",
      "year_of_birth\n",
      "================\n",
      "There are 14 unique value(s) in 94 total values. The first 10 unique value(s):['1986' '1987' '1988' '1993' '1985' '1992' '1996' '1994' '1991' '1990'].\n",
      "The current datatype is object.\n",
      " \n",
      "Column year_of_birth thought to be numeric.\n",
      "------ Summary Statistics ------\n",
      "min: 1963\n",
      "max: 1996\n",
      "median: 1991.0\n",
      "\n",
      "\n",
      "\n",
      "ethnicity\n",
      "================\n",
      "There are 3 unique value(s) in 94 total values. The unique value(s):['Chinese' 'Caucasian' nan].\n",
      "The current datatype is object.\n",
      " \n",
      "Column ethnicity thought to be categorical.\n",
      "------ Summary Statistics ------\n",
      "ethnicity\n",
      "Chinese      81\n",
      "Caucasian    10\n",
      "\n",
      "\n",
      "\n",
      "country_of_birth\n",
      "================\n",
      "There are 9 unique value(s) in 94 total values. The unique value(s):['Indonesia' 'Singapore' 'China' 'Malaysia' 'Brunei' 'Hong Kong'\n",
      " 'United Kingdom' 'Poland' nan].\n",
      "The current datatype is object.\n",
      " \n",
      "Column country_of_birth thought to be categorical.\n",
      "------ Summary Statistics ------\n",
      "country_of_birth\n",
      "Singapore         49\n",
      "China             18\n",
      "Malaysia           8\n",
      "Poland             8\n",
      "Indonesia          2\n",
      "Brunei             2\n",
      "Hong Kong          2\n",
      "United Kingdom     2\n",
      "\n",
      "\n",
      "\n",
      "weight_kg\n",
      "================\n",
      "There are 30 unique value(s) in 94 total values. The first 10 unique value(s):['Not collected' '47' '63' '53' '126' '70' '45.9' '50.5' '46' '62'].\n",
      "The current datatype is object.\n",
      " \n",
      "Column weight_kg thought to be numeric.\n",
      "------ Summary Statistics ------\n",
      "min: 42.0\n",
      "max: 126.0\n",
      "median: 58.0\n",
      "\n",
      "\n",
      "\n",
      "height_cm\n",
      "================\n",
      "There are 27 unique value(s) in 94 total values. The first 10 unique value(s):['Not collected' '178' '163' '162' '174.4' '172' '168' '154' '160' '155'].\n",
      "The current datatype is object.\n",
      " \n",
      "Column height_cm thought to be numeric.\n",
      "------ Summary Statistics ------\n",
      "min: 142.0\n",
      "max: 189.0\n",
      "median: 169.0\n",
      "\n",
      "\n",
      "\n",
      "alcohol\n",
      "================\n",
      "There are 3 unique value(s) in 94 total values. The unique value(s):['Non-drinker' 'Occasionally' nan].\n",
      "The current datatype is object.\n",
      " \n",
      "Column alcohol thought to be categorical.\n",
      "------ Summary Statistics ------\n",
      "alcohol\n",
      "Occasionally    55\n",
      "Non-drinker     36\n",
      "\n",
      "\n",
      "\n",
      "passive_smoking\n",
      "================\n",
      "There are 3 unique value(s) in 94 total values. The unique value(s):['No' 'Yes' nan].\n",
      "The current datatype is object.\n",
      " \n",
      "Column passive_smoking thought to be categorical.\n",
      "------ Summary Statistics ------\n",
      "passive_smoking\n",
      "No     84\n",
      "Yes     7\n",
      "\n",
      "\n",
      "\n",
      "presence_of_pets\n",
      "================\n",
      "There are 4 unique value(s) in 94 total values. The unique value(s):['No' '0' 'Yes' nan].\n",
      "The current datatype is object.\n",
      " \n",
      "Column presence_of_pets thought to be categorical.\n",
      "------ Summary Statistics ------\n",
      "presence_of_pets\n",
      "No     50\n",
      "Yes    39\n",
      "0       2\n",
      "\n",
      "\n",
      "\n",
      "flg_genotype\n",
      "================\n",
      "There are 6 unique value(s) in 94 total values. The unique value(s):['WT' 'S1515X' 'E2422X' 'E2422X/3321delA' '-' nan].\n",
      "The current datatype is object.\n",
      " \n",
      "Column flg_genotype thought to be categorical.\n",
      "------ Summary Statistics ------\n",
      "flg_genotype\n",
      "WT                 73\n",
      "-                  12\n",
      "S1515X              2\n",
      "E2422X              2\n",
      "E2422X/3321delA     2\n",
      "\n",
      "\n",
      "\n",
      "blomia_tropicalis_dust_mite\n",
      "================\n",
      "There are 6 unique value(s) in 94 total values. The unique value(s):['0' '3+' '2+' '1+' 'Indeterminate' nan].\n",
      "The current datatype is object.\n",
      " \n",
      "Column blomia_tropicalis_dust_mite thought to be categorical.\n",
      "------ Summary Statistics ------\n",
      "blomia_tropicalis_dust_mite\n",
      "3+               37\n",
      "0                30\n",
      "Indeterminate    12\n",
      "2+                8\n",
      "1+                4\n",
      "\n",
      "\n",
      "\n",
      "dermatophagoides_pteronyssinus_dust_mite\n",
      "================\n",
      "There are 7 unique value(s) in 94 total values. The unique value(s):['0' '3+' '2+' '1+' '4+' 'Indeterminate' nan].\n",
      "The current datatype is object.\n",
      " \n",
      "Column dermatophagoides_pteronyssinus_dust_mite thought to be categorical.\n",
      "------ Summary Statistics ------\n",
      "dermatophagoides_pteronyssinus_dust_mite\n",
      "3+               39\n",
      "0                30\n",
      "Indeterminate    12\n",
      "2+                6\n",
      "1+                2\n",
      "4+                2\n",
      "\n",
      "\n",
      "\n",
      "elaeis_guineensis_oil_palm_pollen\n",
      "================\n",
      "There are 5 unique value(s) in 94 total values. The unique value(s):['0' '3+' '1+' 'Indeterminate' nan].\n",
      "The current datatype is object.\n",
      " \n",
      "Column elaeis_guineensis_oil_palm_pollen thought to be categorical.\n",
      "------ Summary Statistics ------\n",
      "elaeis_guineensis_oil_palm_pollen\n",
      "0                65\n",
      "Indeterminate    12\n",
      "1+               10\n",
      "3+                4\n",
      "\n",
      "\n",
      "\n",
      "curvularia_spp_fungus\n",
      "================\n",
      "There are 5 unique value(s) in 94 total values. The unique value(s):['0' '1+' '3+' 'Indeterminate' nan].\n",
      "The current datatype is object.\n",
      " \n",
      "Column curvularia_spp_fungus thought to be categorical.\n",
      "------ Summary Statistics ------\n",
      "curvularia_spp_fungus\n",
      "0                73\n",
      "Indeterminate    12\n",
      "1+                4\n",
      "3+                2\n",
      "\n",
      "\n",
      "\n",
      "skin_prick_test_gte3plus\n",
      "================\n",
      "There are 4 unique value(s) in 94 total values. The unique value(s):['No' 'Yes' 'Indeterminate' nan].\n",
      "The current datatype is object.\n",
      " \n",
      "Column skin_prick_test_gte3plus thought to be categorical.\n",
      "------ Summary Statistics ------\n",
      "skin_prick_test_gte3plus\n",
      "Yes              49\n",
      "No               30\n",
      "Indeterminate    12\n",
      "\n",
      "\n",
      "\n",
      "asthma_status\n",
      "================\n",
      "There are 5 unique value(s) in 94 total values. The unique value(s):['Control' 'Indeterminate' 'Intermediate' 'Case' nan].\n",
      "The current datatype is object.\n",
      " \n",
      "Column asthma_status thought to be categorical.\n",
      "------ Summary Statistics ------\n",
      "asthma_status\n",
      "Control          38\n",
      "Indeterminate    33\n",
      "Intermediate     10\n",
      "Case             10\n",
      "\n",
      "\n",
      "\n",
      "ar_status\n",
      "================\n",
      "There are 6 unique value(s) in 94 total values. The unique value(s):['Control' 'Indeterminate' 'Phenotype unknown' 'Case' 'Intermediate' nan].\n",
      "The current datatype is object.\n",
      " \n",
      "Column ar_status thought to be categorical.\n",
      "------ Summary Statistics ------\n",
      "ar_status\n",
      "Control              30\n",
      "Case                 30\n",
      "Indeterminate        25\n",
      "Intermediate          4\n",
      "Phenotype unknown     2\n",
      "\n",
      "\n",
      "\n",
      "ad_status\n",
      "================\n",
      "There are 3 unique value(s) in 94 total values. The unique value(s):['Control' 'Case' nan].\n",
      "The current datatype is object.\n",
      " \n",
      "Column ad_status thought to be categorical.\n",
      "------ Summary Statistics ------\n",
      "ad_status\n",
      "Control    52\n",
      "Case       39\n",
      "\n",
      "\n",
      "\n",
      "sample_type\n",
      "================\n",
      "There are 6 unique value(s) in 94 total values. The unique value(s):['Control' 'Atopic Control' 'Case' 'Gloves' 'Bench Top' 'Door Knob'].\n",
      "The current datatype is object.\n",
      " \n",
      "Column sample_type thought to be categorical.\n",
      "------ Summary Statistics ------\n",
      "sample_type\n",
      "Control           42\n",
      "Case              39\n",
      "Atopic Control    10\n",
      "Gloves             1\n",
      "Bench Top          1\n",
      "Door Knob          1\n",
      "\n",
      "\n",
      "\n",
      "sampling_area\n",
      "================\n",
      "There are 5 unique value(s) in 94 total values. The unique value(s):['Antecubital fossa' 'Retroauricular crease' '(Left) Antecubital Fossa'\n",
      " '(Right) Antecubital Fossa' nan].\n",
      "The current datatype is object.\n",
      " \n",
      "Column sampling_area thought to be categorical.\n",
      "------ Summary Statistics ------\n",
      "sampling_area\n",
      "Antecubital fossa            79\n",
      "Retroauricular crease         6\n",
      "(Left) Antecubital Fossa      3\n",
      "(Right) Antecubital Fossa     3\n",
      "\n",
      "\n",
      "\n",
      "sampling_method\n",
      "================\n",
      "There are 3 unique value(s) in 94 total values. The unique value(s):['tape' 'swab' 'cup scrub'].\n",
      "The current datatype is object.\n",
      " \n",
      "Column sampling_method thought to be categorical.\n",
      "------ Summary Statistics ------\n",
      "sampling_method\n",
      "tape         87\n",
      "swab          5\n",
      "cup scrub     2\n",
      "\n",
      "\n",
      "\n"
     ]
    }
   ],
   "source": [
    "# Summarize but this time include summary statistics\n",
    "summarize_stats()"
   ]
  },
  {
   "cell_type": "markdown",
   "id": "1abeadb5-0a70-4b88-9774-0430c4c8b554",
   "metadata": {},
   "source": [
    "#### Visualizations"
   ]
  },
  {
   "cell_type": "code",
   "execution_count": 239,
   "id": "013dd61a-b04f-4a5e-b63f-eda21e675a14",
   "metadata": {},
   "outputs": [
    {
     "data": {
      "image/png": "[encoded data removed]",
      "text/plain": [
       "<Figure size 640x480 with 1 Axes>"
      ]
     },
     "metadata": {},
     "output_type": "display_data"
    }
   ],
   "source": [
    "visualize_col('gender')"
   ]
  },
  {
   "cell_type": "code",
   "execution_count": 244,
   "id": "dcdc18ca-db68-45bc-9aac-60550459f75b",
   "metadata": {},
   "outputs": [
    {
     "data": {
      "image/png": "[encoded data removed]",
      "text/plain": [
       "<Figure size 640x480 with 1 Axes>"
      ]
     },
     "metadata": {},
     "output_type": "display_data"
    }
   ],
   "source": [
    "visualize_col('year_of_birth')"
   ]
  },
  {
   "cell_type": "code",
   "execution_count": 245,
   "id": "06bd83ae-8d91-4d0a-aa74-e9ad5354ee6c",
   "metadata": {},
   "outputs": [
    {
     "name": "stdout",
     "output_type": "stream",
     "text": [
      "Column year_of_birth thought to be numeric.\n",
      "Column gender thought to be categorical.\n"
     ]
    },
    {
     "data": {
      "image/png": "[encoded data removed]",
      "text/plain": [
       "<Figure size 640x480 with 1 Axes>"
      ]
     },
     "metadata": {},
     "output_type": "display_data"
    },
    {
     "name": "stdout",
     "output_type": "stream",
     "text": [
      "Column weight_kg thought to be numeric.\n",
      "Column height_cm thought to be numeric.\n"
     ]
    },
    {
     "data": {
      "image/png": "[encoded data removed]",
      "text/plain": [
       "<Figure size 640x480 with 1 Axes>"
      ]
     },
     "metadata": {},
     "output_type": "display_data"
    },
    {
     "name": "stdout",
     "output_type": "stream",
     "text": [
      "Column gender thought to be categorical.\n",
      "Column sample_type thought to be categorical.\n"
     ]
    },
    {
     "data": {
      "image/png": "[encoded data removed]",
      "text/plain": [
       "<Figure size 640x480 with 1 Axes>"
      ]
     },
     "metadata": {},
     "output_type": "display_data"
    }
   ],
   "source": [
    "# Visualize two columns at once\n",
    "visualize_two_cols('year_of_birth', 'gender')\n",
    "visualize_two_cols('weight_kg', 'height_cm')\n",
    "visualize_two_cols('gender', 'sample_type')"
   ]
  },
  {
   "cell_type": "markdown",
   "id": "aff72346-f7bb-4ee9-bd2b-64abfa2306f3",
   "metadata": {},
   "source": [
    "### QIIMP manipulations"
   ]
  },
  {
   "cell_type": "markdown",
   "id": "dd78d420-2292-42aa-a19d-4d396361d2ac",
   "metadata": {},
   "source": [
    "**Set the two qiimp guide columns**\n",
    "\n",
    "The host shorthand for anything with a gender is human, and for anything else is 'control surface'."
   ]
  },
  {
   "cell_type": "code",
   "execution_count": 50,
   "id": "2e35c566-7c6b-44d7-a836-55c85ada8585",
   "metadata": {
    "collapsed": true,
    "jupyter": {
     "outputs_hidden": true,
     "source_hidden": true
    }
   },
   "outputs": [
    {
     "ename": "AttributeError",
     "evalue": "module 'qiimp' has no attribute 'HOSTTYPE_SHORTHAND_KEY'",
     "output_type": "error",
     "traceback": [
      "\u001b[0;31m---------------------------------------------------------------------------\u001b[0m",
      "\u001b[0;31mAttributeError\u001b[0m                            Traceback (most recent call last)",
      "Cell \u001b[0;32mIn[50], line 1\u001b[0m\n\u001b[0;32m----> 1\u001b[0m ask(\u001b[38;5;124mf\u001b[39m\u001b[38;5;124m\"\u001b[39m\u001b[38;5;124mWrite code to set column \u001b[39m\u001b[38;5;124m'\u001b[39m\u001b[38;5;132;01m{\u001b[39;00m\u001b[43mqiimp\u001b[49m\u001b[38;5;241;43m.\u001b[39;49m\u001b[43mHOSTTYPE_SHORTHAND_KEY\u001b[49m\u001b[38;5;132;01m}\u001b[39;00m\u001b[38;5;124m'\u001b[39m\u001b[38;5;124m to \u001b[39m\u001b[38;5;124m'\u001b[39m\u001b[38;5;124mhuman\u001b[39m\u001b[38;5;124m'\u001b[39m\u001b[38;5;124m if the \u001b[39m\u001b[38;5;124m'\u001b[39m\u001b[38;5;124mgender\u001b[39m\u001b[38;5;124m'\u001b[39m\u001b[38;5;124m column is not NaN and to \u001b[39m\u001b[38;5;124m'\u001b[39m\u001b[38;5;124mcontrol surface\u001b[39m\u001b[38;5;124m'\u001b[39m\u001b[38;5;124m otherwise.\u001b[39m\u001b[38;5;124m\"\u001b[39m)\n",
      "\u001b[0;31mAttributeError\u001b[0m: module 'qiimp' has no attribute 'HOSTTYPE_SHORTHAND_KEY'"
     ]
    }
   ],
   "source": [
    "ask(f\"Write code to set column '{qiimp.HOSTTYPE_SHORTHAND_KEY}' to 'human' if the 'gender' column is not NaN and to 'control surface' otherwise.\")"
   ]
  },
  {
   "cell_type": "raw",
   "id": "0ea94bf1-09c8-4b3a-b5b0-6a7a20435a70",
   "metadata": {},
   "source": [
    "run_suggestion()"
   ]
  },
  {
   "cell_type": "code",
   "execution_count": null,
   "id": "caf8ec77-cf5f-4c3c-b1a7-3f934169c51b",
   "metadata": {},
   "outputs": [],
   "source": [
    "g_working_df['hosttype_shorthand'] = g_working_df['gender'].apply(lambda x: 'human' if pd.notna(x) else 'control surface')"
   ]
  },
  {
   "cell_type": "markdown",
   "id": "8e1b36d9-b605-4a0a-b03d-7bb72a66b837",
   "metadata": {},
   "source": [
    "The sample shorthand is based on the 'sampling_area' and the 'sample_type'.  If sampling_area is anything with 'Antecubital fossa' in it, it is 'antecubital fossa'.  If it is 'Retroauricular crease', it is 'retroauricular crease'.  If sampling_srea is NaN, then if sample_type is 'Gloves', the sampletype_shorthand is 'control glove' and otherwise it is 'control surface'. That should cover all the cases."
   ]
  },
  {
   "cell_type": "raw",
   "id": "bae26668-beed-46f0-807e-353ed5d30d43",
   "metadata": {
    "scrolled": true
   },
   "source": [
    "ask(f\"Write code to set the '{qiimp.SAMPLETYPE_SHORTHAND_KEY}' column. If sampling_area is anything with 'antecubital fossa' in it, regardless of case, it is 'antecubital fossa'.  If it is 'Retroauricular crease', it is 'retroauricular crease'.  If sampling_srea is NaN, then if sample_type is 'Gloves', the sampletype_shorthand is 'control glove' and otherwise it is 'control surface'.\")"
   ]
  },
  {
   "cell_type": "code",
   "execution_count": null,
   "id": "5145f085-5d61-490a-9e7b-bde7d52a1180",
   "metadata": {},
   "outputs": [],
   "source": [
    "g_working_df['sampletype_shorthand'] = g_working_df.apply(\n",
    "    lambda row: 'antecubital fossa' if pd.notna(row['sampling_area']) and 'antecubital fossa' in str(row['sampling_area']).lower() else\n",
    "                 'retroauricular crease' if row['sampling_area'] == 'Retroauricular crease' else\n",
    "                 'control glove' if pd.isna(row['sampling_area']) and row['sample_type'] == 'Gloves' else\n",
    "                 'control surface' if pd.isna(row['sampling_area']) else\n",
    "                 None,\n",
    "    axis=1\n",
    ")"
   ]
  },
  {
   "cell_type": "code",
   "execution_count": null,
   "id": "933f2e77-f4cb-4b6e-85b0-128e78b95f05",
   "metadata": {
    "scrolled": true
   },
   "outputs": [],
   "source": [
    "g_working_df[g_working_df['sampletype_shorthand'].isna()]"
   ]
  },
  {
   "cell_type": "code",
   "execution_count": null,
   "id": "0e5f7627-5df9-42bb-9d29-59e1a851b3cc",
   "metadata": {
    "scrolled": true
   },
   "outputs": [],
   "source": [
    "g_working_df"
   ]
  },
  {
   "cell_type": "code",
   "execution_count": null,
   "id": "a6cb3600-6303-46ae-a1f9-fc60924fabde",
   "metadata": {},
   "outputs": [],
   "source": [
    "ext_metadata_df = g_working_df.copy()"
   ]
  },
  {
   "cell_type": "markdown",
   "id": "ad117d15-ec4e-4a8d-ab04-c65de09e19f4",
   "metadata": {},
   "source": [
    "#### Examine the Qiita metadata"
   ]
  },
  {
   "cell_type": "code",
   "execution_count": null,
   "id": "a1c031c8-f99c-4238-a58f-1c5aba99af18",
   "metadata": {
    "scrolled": true
   },
   "outputs": [],
   "source": [
    "load_df(qiita_metadata_fp, sep_name=\"tab\", override=True)"
   ]
  },
  {
   "cell_type": "code",
   "execution_count": null,
   "id": "627a2ff6-20cf-4983-9660-c7c0a3154552",
   "metadata": {
    "scrolled": true
   },
   "outputs": [],
   "source": [
    "summarize()"
   ]
  },
  {
   "cell_type": "code",
   "execution_count": null,
   "id": "39047584-4e96-48c6-8ad9-cbb4d9ddbaf7",
   "metadata": {},
   "outputs": [],
   "source": [
    "explore_col(\"center_name\")"
   ]
  },
  {
   "cell_type": "raw",
   "id": "d9b3c7a1-ad61-4aa1-8bfd-7bb3fc94946b",
   "metadata": {},
   "source": [
    "ask(\"Write code to correct that column.\")"
   ]
  },
  {
   "cell_type": "raw",
   "id": "1b4420e5-7f4d-4c30-b334-5397b00d1345",
   "metadata": {},
   "source": [
    "run_suggestion()"
   ]
  },
  {
   "cell_type": "code",
   "execution_count": null,
   "id": "9d8f83f2-82a9-4fcf-b3de-c13ce0330745",
   "metadata": {},
   "outputs": [],
   "source": [
    "g_working_df['center_name'] = g_working_df['center_name'].replace('Genome Institrute of Singapore', 'Genome Institute of Singapore')"
   ]
  },
  {
   "cell_type": "markdown",
   "id": "7f739a92-31f7-4675-b1a1-5942e4a88b4e",
   "metadata": {},
   "source": [
    "I know the libraryid column of the external metadata should be matched with the qiita metadata's sample_alias column, so let's take a look at the latter."
   ]
  },
  {
   "cell_type": "code",
   "execution_count": null,
   "id": "32a79527-04a9-40af-9938-12793457ea84",
   "metadata": {},
   "outputs": [],
   "source": [
    "explore_col(\"sample_alias\")"
   ]
  },
  {
   "cell_type": "markdown",
   "id": "f40a51bd-29a5-4732-9415-81c593dc4dea",
   "metadata": {},
   "source": [
    "#### Merge the qiita and external metadata\n",
    "\n",
    "First check for columns that overlap."
   ]
  },
  {
   "cell_type": "code",
   "execution_count": null,
   "id": "89e1ba0b-ab80-401c-a276-3e54ac4ee361",
   "metadata": {
    "scrolled": true
   },
   "outputs": [],
   "source": [
    "qiimp.find_common_df_cols(g_working_df, ext_metadata_df)"
   ]
  },
  {
   "cell_type": "markdown",
   "id": "86bc684a-2dfe-41e7-8ce1-1c0e30cb9fe0",
   "metadata": {},
   "source": [
    "I don't understand how this existing qiita metadata doesn't already have a sample_type column, but I guess it doesn't, so ok; we can go ahead and merge."
   ]
  },
  {
   "cell_type": "code",
   "execution_count": null,
   "id": "bd5bc151-f028-482b-aa5a-fa14f8e9dc5b",
   "metadata": {
    "scrolled": true
   },
   "outputs": [],
   "source": [
    "merged_df = qiimp.merge_one_to_one_metadata(g_working_df, ext_metadata_df, \"sample_alias\", \"libraryid\", \"qiita\", \"external\", \"outer\")\n",
    "merged_df"
   ]
  },
  {
   "cell_type": "markdown",
   "id": "316f12eb-0b66-4b0c-9c94-7cf33934dc71",
   "metadata": {},
   "source": [
    "Look for records that occur in the external metadata but not in the qiita metadata:"
   ]
  },
  {
   "cell_type": "code",
   "execution_count": null,
   "id": "d517a537-ff24-4e8d-b523-da4a75a15649",
   "metadata": {
    "scrolled": true
   },
   "outputs": [],
   "source": [
    "merged_df[merged_df[\"sample_name\"].isna()]"
   ]
  },
  {
   "cell_type": "markdown",
   "id": "43a190a5-34a4-41d2-95bf-bc52bd0b3cea",
   "metadata": {},
   "source": [
    "Ok, so there's one, and it's the one with the library id that has an asterisk on it (maybe not surprising).  \n",
    "\n",
    "Conversely, are there records that occur in the qiita metadata but not in the external metadata?"
   ]
  },
  {
   "cell_type": "code",
   "execution_count": null,
   "id": "45c523c4-d697-46b6-9d62-3385ef74ce9d",
   "metadata": {
    "scrolled": true
   },
   "outputs": [],
   "source": [
    "merged_df[merged_df[\"libraryid\"].isna()]"
   ]
  },
  {
   "cell_type": "markdown",
   "id": "acd456c1-84ea-40bf-8706-d82fbf4e0623",
   "metadata": {},
   "source": [
    "Hmm, what were the unique libraryids in the external metadata again?"
   ]
  },
  {
   "cell_type": "code",
   "execution_count": null,
   "id": "2aed28c7-ab18-4fc7-ae25-2277e3b106ea",
   "metadata": {},
   "outputs": [],
   "source": [
    "ext_metadata_df[\"libraryid\"].unique()"
   ]
  },
  {
   "cell_type": "code",
   "execution_count": null,
   "id": "8e1a9045-74b6-4396-8d37-863fc745ba24",
   "metadata": {},
   "outputs": [],
   "source": [
    "'WBS003' in ext_metadata_df[\"libraryid\"].unique()"
   ]
  },
  {
   "cell_type": "markdown",
   "id": "3abc0bc7-8c6a-4d04-b085-3ce187306ca5",
   "metadata": {},
   "source": [
    "Okay, I guess ..."
   ]
  },
  {
   "cell_type": "code",
   "execution_count": null,
   "id": "5e8fca8b-80f0-4fb2-b737-9555e5a83e45",
   "metadata": {},
   "outputs": [],
   "source": [
    "g_working_df = merged_df.copy()"
   ]
  },
  {
   "cell_type": "markdown",
   "id": "9831c133-9d69-4b1a-a213-24bc8df4ab6a",
   "metadata": {},
   "source": [
    "**Find columns in the external metadata that might be touched by qiimp**\n",
    "\n",
    "Rename them if they are in danger of being overwritten."
   ]
  },
  {
   "cell_type": "code",
   "execution_count": null,
   "id": "a3400225-884c-4ece-b7b3-15f8d6e95dba",
   "metadata": {},
   "outputs": [],
   "source": [
    "qiimp_cols = qiimp.get_reserved_cols(g_working_df, {})"
   ]
  },
  {
   "cell_type": "code",
   "execution_count": null,
   "id": "25cf7e22-7029-4351-b433-3fa498429743",
   "metadata": {
    "scrolled": true
   },
   "outputs": [],
   "source": [
    "# the qiimp guide columns and the sample_name column are expected by qiimp and won't be altered\n",
    "expected_shared_cols = [qiimp.HOSTTYPE_SHORTHAND_KEY, qiimp.SAMPLETYPE_SHORTHAND_KEY, \"sample_name\"]\n",
    "qiimp.find_common_col_names(g_working_df.columns, qiimp_cols, expected_shared_cols, expected_shared_cols)"
   ]
  },
  {
   "cell_type": "code",
   "execution_count": null,
   "id": "ca8b380e-816e-47a0-b3eb-a82c73da3baa",
   "metadata": {
    "scrolled": true
   },
   "outputs": [],
   "source": [
    "summarize_col(\"geo_loc_name\")"
   ]
  },
  {
   "cell_type": "code",
   "execution_count": null,
   "id": "97d4b267-6873-48e6-9bde-c267079cdc0c",
   "metadata": {},
   "outputs": [],
   "source": [
    "summarize_col(\"scientific_name\")"
   ]
  },
  {
   "cell_type": "code",
   "execution_count": null,
   "id": "73ee3581-a4d9-43f8-bb3b-ad3d118e58b2",
   "metadata": {},
   "outputs": [],
   "source": [
    "summarize_col(\"sample_type\")"
   ]
  },
  {
   "cell_type": "markdown",
   "id": "07f35210-ece3-4bf9-aa11-e036509144cd",
   "metadata": {},
   "source": [
    "Ok, the 'sample_type' column contains external values worth preserving, so let's rename that column so it is saved."
   ]
  },
  {
   "cell_type": "markdown",
   "id": "f2babaae-c6f6-4cd4-95c6-7e3eefb34db4",
   "metadata": {},
   "source": [
    "ask(\"Write code to rename the 'sample_type' column with the suffix '_external' at the end.\")"
   ]
  },
  {
   "cell_type": "markdown",
   "id": "64610495-12bd-41e6-9033-cf266594d3e0",
   "metadata": {},
   "source": [
    "run_suggestion()"
   ]
  },
  {
   "cell_type": "code",
   "execution_count": null,
   "id": "d462b35b-c15b-4544-a7d1-a1a2d6ea0096",
   "metadata": {},
   "outputs": [],
   "source": [
    "g_working_df.rename(columns={'sample_type': 'sample_type_external'}, inplace=True)"
   ]
  },
  {
   "cell_type": "markdown",
   "id": "4097a66a-1e8b-46ed-b27c-79fd151ade33",
   "metadata": {},
   "source": [
    "**Look for standard columns we could fill with the info in the metadata**"
   ]
  },
  {
   "cell_type": "code",
   "execution_count": null,
   "id": "8f83a832-b748-4696-9522-55477d95ca7c",
   "metadata": {
    "scrolled": true
   },
   "outputs": [],
   "source": [
    "qiimp_cols"
   ]
  },
  {
   "cell_type": "code",
   "execution_count": null,
   "id": "80c030f9-3cd4-4526-9b9c-8429fe99d5e0",
   "metadata": {
    "scrolled": true
   },
   "outputs": [],
   "source": [
    "summarize()"
   ]
  },
  {
   "cell_type": "markdown",
   "id": "7d0f3639-c7fb-4423-96d5-9061c88bdf1e",
   "metadata": {},
   "source": [
    "Well, we can definitely set the standard 'sex' column from the 'gender' column, and the 'host_weight' from the 'weight_kg' column, and the 'host_height' from the 'height_cm' column. With just the year of birth, we don't have enough to fill in the age, though, and I don't want to try to get host_life_stage based on just the birth year, either."
   ]
  },
  {
   "cell_type": "code",
   "execution_count": null,
   "id": "94edf629-63d4-489d-b350-a15060a4e498",
   "metadata": {},
   "outputs": [],
   "source": [
    "g_working_df['sex'] = g_working_df['gender'].apply(qiimp.standardize_input_sex)"
   ]
  },
  {
   "cell_type": "code",
   "execution_count": null,
   "id": "b67efb30-23a9-4baa-9fc0-fcde3c70a988",
   "metadata": {},
   "outputs": [],
   "source": [
    "g_working_df['host_weight'] = g_working_df['weight_kg']\n",
    "g_working_df['host_height'] = g_working_df['height_cm']"
   ]
  },
  {
   "cell_type": "markdown",
   "id": "89fefa9c-4fea-452b-845e-c4e9f82427ea",
   "metadata": {},
   "source": [
    "**Set TRPCA-specific columns from the metadata**\n",
    "\n",
    "For this study, they are all conditional on various sample-specific metadata columns.\n",
    "\n",
    "Wait, first I'm going to remove that record that doesn't have a sample_name, since it can't go into qiita anyway."
   ]
  },
  {
   "cell_type": "code",
   "execution_count": null,
   "id": "0d2f7f9b-d41b-4414-8c9c-a170e3b77d9a",
   "metadata": {
    "scrolled": true
   },
   "outputs": [],
   "source": [
    "g_working_df.shape"
   ]
  },
  {
   "cell_type": "markdown",
   "id": "d726ebd0-6fdf-446a-9b81-918e9dc31c2f",
   "metadata": {},
   "source": [
    "ask(\"Write code to remove the record that has a NaN 'sample_name' from the dataframe.\")"
   ]
  },
  {
   "cell_type": "markdown",
   "id": "689660db-496c-4bb1-90f0-df2a3f54a590",
   "metadata": {},
   "source": [
    "run_suggestion()"
   ]
  },
  {
   "cell_type": "code",
   "execution_count": null,
   "id": "fef2c93f-aabf-47b5-99b6-b01d7b1ff8de",
   "metadata": {},
   "outputs": [],
   "source": [
    "g_working_df.dropna(subset=['sample_name'], inplace=True)"
   ]
  },
  {
   "cell_type": "code",
   "execution_count": null,
   "id": "55642d44-1433-43d3-ac90-da51e2fb9f75",
   "metadata": {},
   "outputs": [],
   "source": [
    "g_working_df.shape"
   ]
  },
  {
   "cell_type": "markdown",
   "id": "5c4a832e-fae5-4006-b633-25b579b613bd",
   "metadata": {},
   "source": [
    "Ok, lesional status should be not provided for human records and not applicable for others.  There are those samples that we don't have any external metadata for, and they *might* be human, but I don't know; I think I'm going to just treat them as 'not applicable's."
   ]
  },
  {
   "cell_type": "markdown",
   "id": "4505b0f0-0b90-4599-863e-8bbeccfb3678",
   "metadata": {},
   "source": [
    "ask(\"Write code to set the 'lesional_status' column to 'not applicable' if gender is NaN and to 'not provided' otherwise.\")"
   ]
  },
  {
   "cell_type": "markdown",
   "id": "ca33087b-ca28-4694-b995-857b157ee231",
   "metadata": {},
   "source": [
    "run_suggestion()"
   ]
  },
  {
   "cell_type": "code",
   "execution_count": null,
   "id": "e4f92b02-7566-4dd0-ad5d-c63e594d4644",
   "metadata": {},
   "outputs": [],
   "source": [
    "g_working_df['lesional_status'] = g_working_df['gender'].apply(lambda x: 'not applicable' if pd.isna(x) else 'not provided')"
   ]
  },
  {
   "cell_type": "code",
   "execution_count": null,
   "id": "4a78fd2a-ebf6-45e8-a59d-5d7c9dd10abf",
   "metadata": {
    "scrolled": true
   },
   "outputs": [],
   "source": [
    "g_working_df"
   ]
  },
  {
   "cell_type": "markdown",
   "id": "b4e79568-bca6-445c-9237-d8ae2865bebd",
   "metadata": {},
   "source": [
    "ask(\"Write code to create a new column 'has_skin_disorder' and set it to 'True' if the the value in 'AD_status' is 'Case', 'False' if 'AD_status' is 'Control', and 'not applicable' if 'AD_status' anything else.\")"
   ]
  },
  {
   "cell_type": "markdown",
   "id": "23b00f3d-7b6f-4fe1-878d-96aeaa67d195",
   "metadata": {},
   "source": [
    "run_suggestion()"
   ]
  },
  {
   "cell_type": "code",
   "execution_count": null,
   "id": "f43f254f-7755-4c59-99a3-8e70b71ddb51",
   "metadata": {},
   "outputs": [],
   "source": [
    "g_working_df['has_skin_disorder'] = g_working_df['ad_status'].apply(lambda x: True if x == 'Case' else (False if x == 'Control' else 'not applicable'))"
   ]
  },
  {
   "cell_type": "markdown",
   "id": "73b8bb52-9783-4b91-a514-860180c547a4",
   "metadata": {},
   "source": [
    "ask(\"Write code to create a new column 'skin_disorder' and set it to 'atopic dermatitis' if 'AD_status' is 'Case' and 'not_applicable' otherwise.\")"
   ]
  },
  {
   "cell_type": "markdown",
   "id": "bdec45dc-61c7-4352-b910-450dd2a56f8b",
   "metadata": {},
   "source": [
    "run_suggestion()"
   ]
  },
  {
   "cell_type": "code",
   "execution_count": null,
   "id": "e0e54616-fbbb-493e-9bd7-8c28d90e7722",
   "metadata": {},
   "outputs": [],
   "source": [
    "g_working_df['skin_disorder'] = g_working_df['ad_status'].apply(lambda x: 'atopic dermatitis' if x == 'Case' else 'not_applicable')"
   ]
  },
  {
   "cell_type": "markdown",
   "id": "f5c5dda7-2d44-469e-b007-fb73c84f2da2",
   "metadata": {},
   "source": [
    "#### Run qiimp to extend the metadata with standard column values"
   ]
  },
  {
   "cell_type": "code",
   "execution_count": null,
   "id": "9e4b1775-d4d2-4db0-a694-764b714211ae",
   "metadata": {
    "scrolled": true
   },
   "outputs": [],
   "source": [
    "extended_df, validation_msgs = qiimp.get_extended_metadata_from_df_and_yaml(g_working_df, study_config_fp)"
   ]
  },
  {
   "cell_type": "code",
   "execution_count": null,
   "id": "8d7b3496-ca12-4623-b47a-c6d2fa675b60",
   "metadata": {},
   "outputs": [],
   "source": [
    "g_working_df.shape"
   ]
  },
  {
   "cell_type": "code",
   "execution_count": null,
   "id": "562f32c7-730f-4169-bc17-7b4948f749d2",
   "metadata": {
    "scrolled": true
   },
   "outputs": [],
   "source": [
    "extended_df.shape"
   ]
  },
  {
   "cell_type": "markdown",
   "id": "f33f30bf-6bc3-402d-9100-561fd1dce450",
   "metadata": {},
   "source": [
    "Were there any qc notes or validation messages?"
   ]
  },
  {
   "cell_type": "code",
   "execution_count": null,
   "id": "8c0250b9-d955-462f-a97d-b09217e0e02c",
   "metadata": {
    "scrolled": true
   },
   "outputs": [],
   "source": [
    "extended_df[extended_df['qc_note'].notnull() & (extended_df['qc_note'] != '')]"
   ]
  },
  {
   "cell_type": "markdown",
   "id": "c099d163-a8c4-453a-a785-b34f1eb52ccf",
   "metadata": {},
   "source": [
    "It makes sense that all the ones without libraryids can't have their host and sample types set and thus can't be extended."
   ]
  },
  {
   "cell_type": "code",
   "execution_count": null,
   "id": "19be9301-1c20-4d6a-8319-7cee37b22db2",
   "metadata": {
    "scrolled": true
   },
   "outputs": [],
   "source": [
    "validation_msgs"
   ]
  },
  {
   "cell_type": "markdown",
   "id": "73b06afd-4462-4539-9a1f-4c915a41ee2d",
   "metadata": {},
   "source": [
    "Well, ok, so there are a bunch of fields that were set to unexpected values (in qiita, before the metadata got to me).  Maybe they should be modified, but I'm not sure what to, so I am going to ignore them and send them back to the stakeholder to deal with."
   ]
  },
  {
   "cell_type": "code",
   "execution_count": null,
   "id": "fc3c60d6-c11d-4e56-be0e-02d48b96aef0",
   "metadata": {},
   "outputs": [],
   "source": [
    "qiimp.write_metadata_results(extended_df, validation_msgs, '/Users/abirmingham/Desktop/trpca', \"15612_merged_metadata_standardized\", remove_internals=True, suppress_empty_fails=True)"
   ]
  },
  {
   "cell_type": "code",
   "execution_count": null,
   "id": "b7147060-0c86-4573-86d8-d3152af217fb",
   "metadata": {},
   "outputs": [],
   "source": []
  },
  {
   "cell_type": "code",
   "execution_count": null,
   "id": "509ad89a-7351-4557-a947-42173c275760",
   "metadata": {},
   "outputs": [],
   "source": [
    "g_working_df.rename(columns={'Skin Prick Test (≥3+)': 'Skin_Prick_Test_gte3plus'}, inplace=True)"
   ]
  },
  {
   "cell_type": "code",
   "execution_count": null,
   "id": "38799538-b558-420d-899a-aa323f01467d",
   "metadata": {},
   "outputs": [],
   "source": []
  }
 ],
 "metadata": {
  "kernelspec": {
   "display_name": "metagpt_langchain",
   "language": "python",
   "name": "metagpt_langchain"
  },
  "language_info": {
   "codemirror_mode": {
    "name": "ipython",
    "version": 3
   },
   "file_extension": ".py",
   "mimetype": "text/x-python",
   "name": "python",
   "nbconvert_exporter": "python",
   "pygments_lexer": "ipython3",
   "version": "3.10.16"
  }
 },
 "nbformat": 4,
 "nbformat_minor": 5
}
